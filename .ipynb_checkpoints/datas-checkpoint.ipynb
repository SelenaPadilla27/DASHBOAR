{
 "cells": [
  {
   "cell_type": "markdown",
   "metadata": {},
   "source": [
    "## Integrantes\n",
    "#### Rocha Vergara Paulina\n",
    "#### Aracelys Muñoz Martínez\n",
    "#### Milagro Cabeza Causil\n",
    "#### Adrián Alemán Argel\n",
    "#### Selena Padilla Marín\n",
    "#### Jhon Eduar Campo Ladeuth\n",
    "#### Eliecer Enrique Diaz Arrieta"
   ]
  },
  {
   "cell_type": "code",
   "execution_count": 1,
   "metadata": {},
   "outputs": [],
   "source": [
    "import pandas as pd\n",
    "import numpy as np\n",
    "import seaborn as sns\n",
    "import matplotlib.pyplot as plt\n",
    "import plotly\n",
    "import ppscore as pps\n",
    "import warnings\n",
    "warnings.filterwarnings(\"ignore\")"
   ]
  },
  {
   "cell_type": "code",
   "execution_count": 2,
   "metadata": {},
   "outputs": [],
   "source": [
    "data_2010_2017 = pd.read_csv(\"df_cordoba_2010_2017.csv\")\n",
    "data_2018_2021 = pd.read_csv(\"df_cordoba_2018_2021.csv\")"
   ]
  },
  {
   "cell_type": "code",
   "execution_count": 3,
   "metadata": {},
   "outputs": [
    {
     "data": {
      "text/html": [
       "<div>\n",
       "<style scoped>\n",
       "    .dataframe tbody tr th:only-of-type {\n",
       "        vertical-align: middle;\n",
       "    }\n",
       "\n",
       "    .dataframe tbody tr th {\n",
       "        vertical-align: top;\n",
       "    }\n",
       "\n",
       "    .dataframe thead th {\n",
       "        text-align: right;\n",
       "    }\n",
       "</style>\n",
       "<table border=\"1\" class=\"dataframe\">\n",
       "  <thead>\n",
       "    <tr style=\"text-align: right;\">\n",
       "      <th></th>\n",
       "      <th>count</th>\n",
       "      <th>mean</th>\n",
       "      <th>std</th>\n",
       "      <th>min</th>\n",
       "      <th>25%</th>\n",
       "      <th>50%</th>\n",
       "      <th>75%</th>\n",
       "      <th>max</th>\n",
       "    </tr>\n",
       "  </thead>\n",
       "  <tbody>\n",
       "    <tr>\n",
       "      <th>ANNO_INF</th>\n",
       "      <td>981524.0</td>\n",
       "      <td>2.013509e+03</td>\n",
       "      <td>2.279954e+00</td>\n",
       "      <td>2.010000e+03</td>\n",
       "      <td>2.012000e+03</td>\n",
       "      <td>2.014000e+03</td>\n",
       "      <td>2.015000e+03</td>\n",
       "      <td>2.017000e+03</td>\n",
       "    </tr>\n",
       "    <tr>\n",
       "      <th>COD_DANE_DEPARTAMENTO</th>\n",
       "      <td>981524.0</td>\n",
       "      <td>2.300000e+01</td>\n",
       "      <td>0.000000e+00</td>\n",
       "      <td>2.300000e+01</td>\n",
       "      <td>2.300000e+01</td>\n",
       "      <td>2.300000e+01</td>\n",
       "      <td>2.300000e+01</td>\n",
       "      <td>2.300000e+01</td>\n",
       "    </tr>\n",
       "    <tr>\n",
       "      <th>COD_SECRETARIA</th>\n",
       "      <td>981524.0</td>\n",
       "      <td>3.781483e+03</td>\n",
       "      <td>8.255520e-01</td>\n",
       "      <td>3.781000e+03</td>\n",
       "      <td>3.781000e+03</td>\n",
       "      <td>3.781000e+03</td>\n",
       "      <td>3.782000e+03</td>\n",
       "      <td>3.784000e+03</td>\n",
       "    </tr>\n",
       "    <tr>\n",
       "      <th>COD_DANE_MUNICIPIO</th>\n",
       "      <td>981524.0</td>\n",
       "      <td>2.340351e+04</td>\n",
       "      <td>2.899070e+02</td>\n",
       "      <td>2.300100e+04</td>\n",
       "      <td>2.309000e+04</td>\n",
       "      <td>2.346600e+04</td>\n",
       "      <td>2.367000e+04</td>\n",
       "      <td>2.385500e+04</td>\n",
       "    </tr>\n",
       "    <tr>\n",
       "      <th>CODIGO_DANE</th>\n",
       "      <td>981524.0</td>\n",
       "      <td>2.043688e+11</td>\n",
       "      <td>5.964768e+10</td>\n",
       "      <td>1.230010e+11</td>\n",
       "      <td>1.236720e+11</td>\n",
       "      <td>2.234170e+11</td>\n",
       "      <td>2.236700e+11</td>\n",
       "      <td>8.230010e+11</td>\n",
       "    </tr>\n",
       "    <tr>\n",
       "      <th>COD_SECTOR</th>\n",
       "      <td>981524.0</td>\n",
       "      <td>1.001080e+03</td>\n",
       "      <td>2.708086e-01</td>\n",
       "      <td>1.001000e+03</td>\n",
       "      <td>1.001000e+03</td>\n",
       "      <td>1.001000e+03</td>\n",
       "      <td>1.001000e+03</td>\n",
       "      <td>1.002000e+03</td>\n",
       "    </tr>\n",
       "    <tr>\n",
       "      <th>COD_CALENDARIO</th>\n",
       "      <td>940222.0</td>\n",
       "      <td>5.200035e+01</td>\n",
       "      <td>1.867438e-02</td>\n",
       "      <td>5.200000e+01</td>\n",
       "      <td>5.200000e+01</td>\n",
       "      <td>5.200000e+01</td>\n",
       "      <td>5.200000e+01</td>\n",
       "      <td>5.300000e+01</td>\n",
       "    </tr>\n",
       "    <tr>\n",
       "      <th>CODIGO_DANE_SEDE</th>\n",
       "      <td>981524.0</td>\n",
       "      <td>2.078754e+11</td>\n",
       "      <td>6.382217e+10</td>\n",
       "      <td>1.230010e+11</td>\n",
       "      <td>1.238070e+11</td>\n",
       "      <td>2.234170e+11</td>\n",
       "      <td>2.236700e+11</td>\n",
       "      <td>8.956000e+11</td>\n",
       "    </tr>\n",
       "    <tr>\n",
       "      <th>COD_ZONA</th>\n",
       "      <td>981524.0</td>\n",
       "      <td>1.004652e+03</td>\n",
       "      <td>4.764935e-01</td>\n",
       "      <td>1.004000e+03</td>\n",
       "      <td>1.004000e+03</td>\n",
       "      <td>1.005000e+03</td>\n",
       "      <td>1.005000e+03</td>\n",
       "      <td>1.005000e+03</td>\n",
       "    </tr>\n",
       "    <tr>\n",
       "      <th>COD_TIPO_JORNADA</th>\n",
       "      <td>981524.0</td>\n",
       "      <td>2.535764e+00</td>\n",
       "      <td>1.072181e+00</td>\n",
       "      <td>1.000000e+00</td>\n",
       "      <td>2.000000e+00</td>\n",
       "      <td>2.000000e+00</td>\n",
       "      <td>3.000000e+00</td>\n",
       "      <td>6.000000e+00</td>\n",
       "    </tr>\n",
       "    <tr>\n",
       "      <th>COD_GRADO</th>\n",
       "      <td>981524.0</td>\n",
       "      <td>6.635365e+00</td>\n",
       "      <td>7.962822e+00</td>\n",
       "      <td>-3.000000e+00</td>\n",
       "      <td>2.000000e+00</td>\n",
       "      <td>4.000000e+00</td>\n",
       "      <td>8.000000e+00</td>\n",
       "      <td>9.900000e+01</td>\n",
       "    </tr>\n",
       "    <tr>\n",
       "      <th>COD_METODOLOGIA</th>\n",
       "      <td>981524.0</td>\n",
       "      <td>2.968384e+00</td>\n",
       "      <td>5.369776e+00</td>\n",
       "      <td>1.000000e+00</td>\n",
       "      <td>1.000000e+00</td>\n",
       "      <td>1.000000e+00</td>\n",
       "      <td>2.000000e+00</td>\n",
       "      <td>3.000000e+01</td>\n",
       "    </tr>\n",
       "    <tr>\n",
       "      <th>COD_CARACTER</th>\n",
       "      <td>940222.0</td>\n",
       "      <td>7.799966e-02</td>\n",
       "      <td>2.842663e-01</td>\n",
       "      <td>0.000000e+00</td>\n",
       "      <td>0.000000e+00</td>\n",
       "      <td>0.000000e+00</td>\n",
       "      <td>0.000000e+00</td>\n",
       "      <td>3.000000e+00</td>\n",
       "    </tr>\n",
       "    <tr>\n",
       "      <th>COD_ESPECIALIDAD</th>\n",
       "      <td>940222.0</td>\n",
       "      <td>3.856844e-01</td>\n",
       "      <td>1.412753e+00</td>\n",
       "      <td>0.000000e+00</td>\n",
       "      <td>0.000000e+00</td>\n",
       "      <td>0.000000e+00</td>\n",
       "      <td>0.000000e+00</td>\n",
       "      <td>1.600000e+01</td>\n",
       "    </tr>\n",
       "    <tr>\n",
       "      <th>EDAD</th>\n",
       "      <td>981524.0</td>\n",
       "      <td>1.222096e+01</td>\n",
       "      <td>7.561390e+00</td>\n",
       "      <td>0.000000e+00</td>\n",
       "      <td>8.000000e+00</td>\n",
       "      <td>1.100000e+01</td>\n",
       "      <td>1.500000e+01</td>\n",
       "      <td>9.800000e+01</td>\n",
       "    </tr>\n",
       "    <tr>\n",
       "      <th>COD_GRUPO_ETNICO</th>\n",
       "      <td>981524.0</td>\n",
       "      <td>1.819915e-01</td>\n",
       "      <td>5.507343e-01</td>\n",
       "      <td>0.000000e+00</td>\n",
       "      <td>0.000000e+00</td>\n",
       "      <td>0.000000e+00</td>\n",
       "      <td>0.000000e+00</td>\n",
       "      <td>7.000000e+00</td>\n",
       "    </tr>\n",
       "    <tr>\n",
       "      <th>COD_SECTOR_CONPES</th>\n",
       "      <td>981524.0</td>\n",
       "      <td>1.341982e+00</td>\n",
       "      <td>8.211961e-01</td>\n",
       "      <td>1.000000e+00</td>\n",
       "      <td>1.000000e+00</td>\n",
       "      <td>1.000000e+00</td>\n",
       "      <td>1.000000e+00</td>\n",
       "      <td>4.000000e+00</td>\n",
       "    </tr>\n",
       "    <tr>\n",
       "      <th>TOTAL_MATRICULA</th>\n",
       "      <td>981524.0</td>\n",
       "      <td>3.634074e+00</td>\n",
       "      <td>5.962490e+00</td>\n",
       "      <td>0.000000e+00</td>\n",
       "      <td>1.000000e+00</td>\n",
       "      <td>2.000000e+00</td>\n",
       "      <td>4.000000e+00</td>\n",
       "      <td>9.670000e+02</td>\n",
       "    </tr>\n",
       "  </tbody>\n",
       "</table>\n",
       "</div>"
      ],
      "text/plain": [
       "                          count          mean           std           min  \\\n",
       "ANNO_INF               981524.0  2.013509e+03  2.279954e+00  2.010000e+03   \n",
       "COD_DANE_DEPARTAMENTO  981524.0  2.300000e+01  0.000000e+00  2.300000e+01   \n",
       "COD_SECRETARIA         981524.0  3.781483e+03  8.255520e-01  3.781000e+03   \n",
       "COD_DANE_MUNICIPIO     981524.0  2.340351e+04  2.899070e+02  2.300100e+04   \n",
       "CODIGO_DANE            981524.0  2.043688e+11  5.964768e+10  1.230010e+11   \n",
       "COD_SECTOR             981524.0  1.001080e+03  2.708086e-01  1.001000e+03   \n",
       "COD_CALENDARIO         940222.0  5.200035e+01  1.867438e-02  5.200000e+01   \n",
       "CODIGO_DANE_SEDE       981524.0  2.078754e+11  6.382217e+10  1.230010e+11   \n",
       "COD_ZONA               981524.0  1.004652e+03  4.764935e-01  1.004000e+03   \n",
       "COD_TIPO_JORNADA       981524.0  2.535764e+00  1.072181e+00  1.000000e+00   \n",
       "COD_GRADO              981524.0  6.635365e+00  7.962822e+00 -3.000000e+00   \n",
       "COD_METODOLOGIA        981524.0  2.968384e+00  5.369776e+00  1.000000e+00   \n",
       "COD_CARACTER           940222.0  7.799966e-02  2.842663e-01  0.000000e+00   \n",
       "COD_ESPECIALIDAD       940222.0  3.856844e-01  1.412753e+00  0.000000e+00   \n",
       "EDAD                   981524.0  1.222096e+01  7.561390e+00  0.000000e+00   \n",
       "COD_GRUPO_ETNICO       981524.0  1.819915e-01  5.507343e-01  0.000000e+00   \n",
       "COD_SECTOR_CONPES      981524.0  1.341982e+00  8.211961e-01  1.000000e+00   \n",
       "TOTAL_MATRICULA        981524.0  3.634074e+00  5.962490e+00  0.000000e+00   \n",
       "\n",
       "                                25%           50%           75%           max  \n",
       "ANNO_INF               2.012000e+03  2.014000e+03  2.015000e+03  2.017000e+03  \n",
       "COD_DANE_DEPARTAMENTO  2.300000e+01  2.300000e+01  2.300000e+01  2.300000e+01  \n",
       "COD_SECRETARIA         3.781000e+03  3.781000e+03  3.782000e+03  3.784000e+03  \n",
       "COD_DANE_MUNICIPIO     2.309000e+04  2.346600e+04  2.367000e+04  2.385500e+04  \n",
       "CODIGO_DANE            1.236720e+11  2.234170e+11  2.236700e+11  8.230010e+11  \n",
       "COD_SECTOR             1.001000e+03  1.001000e+03  1.001000e+03  1.002000e+03  \n",
       "COD_CALENDARIO         5.200000e+01  5.200000e+01  5.200000e+01  5.300000e+01  \n",
       "CODIGO_DANE_SEDE       1.238070e+11  2.234170e+11  2.236700e+11  8.956000e+11  \n",
       "COD_ZONA               1.004000e+03  1.005000e+03  1.005000e+03  1.005000e+03  \n",
       "COD_TIPO_JORNADA       2.000000e+00  2.000000e+00  3.000000e+00  6.000000e+00  \n",
       "COD_GRADO              2.000000e+00  4.000000e+00  8.000000e+00  9.900000e+01  \n",
       "COD_METODOLOGIA        1.000000e+00  1.000000e+00  2.000000e+00  3.000000e+01  \n",
       "COD_CARACTER           0.000000e+00  0.000000e+00  0.000000e+00  3.000000e+00  \n",
       "COD_ESPECIALIDAD       0.000000e+00  0.000000e+00  0.000000e+00  1.600000e+01  \n",
       "EDAD                   8.000000e+00  1.100000e+01  1.500000e+01  9.800000e+01  \n",
       "COD_GRUPO_ETNICO       0.000000e+00  0.000000e+00  0.000000e+00  7.000000e+00  \n",
       "COD_SECTOR_CONPES      1.000000e+00  1.000000e+00  1.000000e+00  4.000000e+00  \n",
       "TOTAL_MATRICULA        1.000000e+00  2.000000e+00  4.000000e+00  9.670000e+02  "
      ]
     },
     "execution_count": 3,
     "metadata": {},
     "output_type": "execute_result"
    }
   ],
   "source": [
    "data_2010_2017.describe().T"
   ]
  },
  {
   "cell_type": "code",
   "execution_count": 4,
   "metadata": {},
   "outputs": [
    {
     "data": {
      "text/plain": [
       "2015    138721\n",
       "2011    123231\n",
       "2016    121636\n",
       "2013    121389\n",
       "2012    121134\n",
       "2010    121092\n",
       "2017    117902\n",
       "2014    116419\n",
       "Name: ANNO_INF, dtype: int64"
      ]
     },
     "execution_count": 4,
     "metadata": {},
     "output_type": "execute_result"
    }
   ],
   "source": [
    "data_2010_2017.ANNO_INF.value_counts()"
   ]
  },
  {
   "cell_type": "code",
   "execution_count": 5,
   "metadata": {},
   "outputs": [],
   "source": [
    "# Unimos nuestros datasets para trabajar con uno solo archivo\n",
    "data_2010_2021 = pd.concat([data_2018_2021, data_2010_2017])"
   ]
  },
  {
   "cell_type": "code",
   "execution_count": null,
   "metadata": {},
   "outputs": [],
   "source": []
  },
  {
   "cell_type": "code",
   "execution_count": 6,
   "metadata": {},
   "outputs": [
    {
     "data": {
      "text/html": [
       "<div>\n",
       "<style scoped>\n",
       "    .dataframe tbody tr th:only-of-type {\n",
       "        vertical-align: middle;\n",
       "    }\n",
       "\n",
       "    .dataframe tbody tr th {\n",
       "        vertical-align: top;\n",
       "    }\n",
       "\n",
       "    .dataframe thead th {\n",
       "        text-align: right;\n",
       "    }\n",
       "</style>\n",
       "<table border=\"1\" class=\"dataframe\">\n",
       "  <thead>\n",
       "    <tr style=\"text-align: right;\">\n",
       "      <th></th>\n",
       "      <th>ANNO_INF</th>\n",
       "      <th>COD_DANE_DEPARTAMENTO</th>\n",
       "      <th>COD_SECRETARIA</th>\n",
       "      <th>COD_DANE_MUNICIPIO</th>\n",
       "      <th>CODIGO_DANE</th>\n",
       "      <th>COD_SECTOR</th>\n",
       "      <th>COD_CALENDARIO</th>\n",
       "      <th>CODIGO_DANE_SEDE</th>\n",
       "      <th>COD_ZONA</th>\n",
       "      <th>COD_TIPO_JORNADA</th>\n",
       "      <th>CODIGO_GRADO</th>\n",
       "      <th>COD_METODOLOGIA</th>\n",
       "      <th>COD_CARACTER</th>\n",
       "      <th>COD_ESPECIALIDAD</th>\n",
       "      <th>EDAD</th>\n",
       "      <th>COD_GRUPO_ETNICO</th>\n",
       "      <th>COD_SECTOR_CONPES</th>\n",
       "      <th>TOTAL_MATRICULA</th>\n",
       "      <th>COD_GRADO</th>\n",
       "    </tr>\n",
       "  </thead>\n",
       "  <tbody>\n",
       "    <tr>\n",
       "      <th>count</th>\n",
       "      <td>1.425959e+06</td>\n",
       "      <td>1425959.0</td>\n",
       "      <td>1.425959e+06</td>\n",
       "      <td>1.425959e+06</td>\n",
       "      <td>1.425959e+06</td>\n",
       "      <td>1.425959e+06</td>\n",
       "      <td>1.384657e+06</td>\n",
       "      <td>1.425959e+06</td>\n",
       "      <td>1.425959e+06</td>\n",
       "      <td>1.425959e+06</td>\n",
       "      <td>444435.000000</td>\n",
       "      <td>1.425959e+06</td>\n",
       "      <td>1.384657e+06</td>\n",
       "      <td>1.384657e+06</td>\n",
       "      <td>1.425959e+06</td>\n",
       "      <td>1.425959e+06</td>\n",
       "      <td>1.425959e+06</td>\n",
       "      <td>1.425959e+06</td>\n",
       "      <td>981524.000000</td>\n",
       "    </tr>\n",
       "    <tr>\n",
       "      <th>mean</th>\n",
       "      <td>2.015362e+03</td>\n",
       "      <td>23.0</td>\n",
       "      <td>3.781477e+03</td>\n",
       "      <td>2.340792e+04</td>\n",
       "      <td>2.062407e+11</td>\n",
       "      <td>1.001086e+03</td>\n",
       "      <td>5.200056e+01</td>\n",
       "      <td>2.077965e+11</td>\n",
       "      <td>1.004651e+03</td>\n",
       "      <td>2.734315e+00</td>\n",
       "      <td>6.230063</td>\n",
       "      <td>2.890793e+00</td>\n",
       "      <td>8.327550e-02</td>\n",
       "      <td>4.126769e-01</td>\n",
       "      <td>1.214608e+01</td>\n",
       "      <td>5.657952e+00</td>\n",
       "      <td>1.345081e+00</td>\n",
       "      <td>3.667568e+00</td>\n",
       "      <td>6.635365</td>\n",
       "    </tr>\n",
       "    <tr>\n",
       "      <th>std</th>\n",
       "      <td>3.398847e+00</td>\n",
       "      <td>0.0</td>\n",
       "      <td>8.291172e-01</td>\n",
       "      <td>2.891797e+02</td>\n",
       "      <td>6.020025e+10</td>\n",
       "      <td>2.798711e-01</td>\n",
       "      <td>2.357510e-02</td>\n",
       "      <td>6.263321e+10</td>\n",
       "      <td>4.765715e-01</td>\n",
       "      <td>1.320394e+00</td>\n",
       "      <td>7.114362</td>\n",
       "      <td>5.457206e+00</td>\n",
       "      <td>2.923737e-01</td>\n",
       "      <td>1.453940e+00</td>\n",
       "      <td>7.516526e+00</td>\n",
       "      <td>2.628458e+01</td>\n",
       "      <td>8.439783e-01</td>\n",
       "      <td>5.909864e+00</td>\n",
       "      <td>7.962822</td>\n",
       "    </tr>\n",
       "    <tr>\n",
       "      <th>min</th>\n",
       "      <td>2.010000e+03</td>\n",
       "      <td>23.0</td>\n",
       "      <td>3.781000e+03</td>\n",
       "      <td>2.300100e+04</td>\n",
       "      <td>1.230010e+11</td>\n",
       "      <td>1.001000e+03</td>\n",
       "      <td>5.200000e+01</td>\n",
       "      <td>1.230010e+11</td>\n",
       "      <td>1.004000e+03</td>\n",
       "      <td>1.000000e+00</td>\n",
       "      <td>-2.000000</td>\n",
       "      <td>1.000000e+00</td>\n",
       "      <td>0.000000e+00</td>\n",
       "      <td>0.000000e+00</td>\n",
       "      <td>0.000000e+00</td>\n",
       "      <td>0.000000e+00</td>\n",
       "      <td>1.000000e+00</td>\n",
       "      <td>0.000000e+00</td>\n",
       "      <td>-3.000000</td>\n",
       "    </tr>\n",
       "    <tr>\n",
       "      <th>25%</th>\n",
       "      <td>2.012000e+03</td>\n",
       "      <td>23.0</td>\n",
       "      <td>3.781000e+03</td>\n",
       "      <td>2.309000e+04</td>\n",
       "      <td>1.236860e+11</td>\n",
       "      <td>1.001000e+03</td>\n",
       "      <td>5.200000e+01</td>\n",
       "      <td>1.238070e+11</td>\n",
       "      <td>1.004000e+03</td>\n",
       "      <td>2.000000e+00</td>\n",
       "      <td>2.000000</td>\n",
       "      <td>1.000000e+00</td>\n",
       "      <td>0.000000e+00</td>\n",
       "      <td>0.000000e+00</td>\n",
       "      <td>8.000000e+00</td>\n",
       "      <td>0.000000e+00</td>\n",
       "      <td>1.000000e+00</td>\n",
       "      <td>1.000000e+00</td>\n",
       "      <td>2.000000</td>\n",
       "    </tr>\n",
       "    <tr>\n",
       "      <th>50%</th>\n",
       "      <td>2.015000e+03</td>\n",
       "      <td>23.0</td>\n",
       "      <td>3.781000e+03</td>\n",
       "      <td>2.346600e+04</td>\n",
       "      <td>2.234170e+11</td>\n",
       "      <td>1.001000e+03</td>\n",
       "      <td>5.200000e+01</td>\n",
       "      <td>2.234170e+11</td>\n",
       "      <td>1.005000e+03</td>\n",
       "      <td>2.000000e+00</td>\n",
       "      <td>5.000000</td>\n",
       "      <td>1.000000e+00</td>\n",
       "      <td>0.000000e+00</td>\n",
       "      <td>0.000000e+00</td>\n",
       "      <td>1.100000e+01</td>\n",
       "      <td>0.000000e+00</td>\n",
       "      <td>1.000000e+00</td>\n",
       "      <td>2.000000e+00</td>\n",
       "      <td>4.000000</td>\n",
       "    </tr>\n",
       "    <tr>\n",
       "      <th>75%</th>\n",
       "      <td>2.018000e+03</td>\n",
       "      <td>23.0</td>\n",
       "      <td>3.782000e+03</td>\n",
       "      <td>2.367000e+04</td>\n",
       "      <td>2.236700e+11</td>\n",
       "      <td>1.001000e+03</td>\n",
       "      <td>5.200000e+01</td>\n",
       "      <td>2.236700e+11</td>\n",
       "      <td>1.005000e+03</td>\n",
       "      <td>3.000000e+00</td>\n",
       "      <td>8.000000</td>\n",
       "      <td>2.000000e+00</td>\n",
       "      <td>0.000000e+00</td>\n",
       "      <td>0.000000e+00</td>\n",
       "      <td>1.500000e+01</td>\n",
       "      <td>0.000000e+00</td>\n",
       "      <td>1.000000e+00</td>\n",
       "      <td>4.000000e+00</td>\n",
       "      <td>8.000000</td>\n",
       "    </tr>\n",
       "    <tr>\n",
       "      <th>max</th>\n",
       "      <td>2.021000e+03</td>\n",
       "      <td>23.0</td>\n",
       "      <td>3.784000e+03</td>\n",
       "      <td>2.385500e+04</td>\n",
       "      <td>8.230010e+11</td>\n",
       "      <td>1.002000e+03</td>\n",
       "      <td>5.300000e+01</td>\n",
       "      <td>8.956000e+11</td>\n",
       "      <td>1.005000e+03</td>\n",
       "      <td>6.000000e+00</td>\n",
       "      <td>99.000000</td>\n",
       "      <td>4.400000e+01</td>\n",
       "      <td>3.000000e+00</td>\n",
       "      <td>1.600000e+01</td>\n",
       "      <td>9.800000e+01</td>\n",
       "      <td>9.990000e+02</td>\n",
       "      <td>4.000000e+00</td>\n",
       "      <td>9.670000e+02</td>\n",
       "      <td>99.000000</td>\n",
       "    </tr>\n",
       "  </tbody>\n",
       "</table>\n",
       "</div>"
      ],
      "text/plain": [
       "           ANNO_INF  COD_DANE_DEPARTAMENTO  COD_SECRETARIA  \\\n",
       "count  1.425959e+06              1425959.0    1.425959e+06   \n",
       "mean   2.015362e+03                   23.0    3.781477e+03   \n",
       "std    3.398847e+00                    0.0    8.291172e-01   \n",
       "min    2.010000e+03                   23.0    3.781000e+03   \n",
       "25%    2.012000e+03                   23.0    3.781000e+03   \n",
       "50%    2.015000e+03                   23.0    3.781000e+03   \n",
       "75%    2.018000e+03                   23.0    3.782000e+03   \n",
       "max    2.021000e+03                   23.0    3.784000e+03   \n",
       "\n",
       "       COD_DANE_MUNICIPIO   CODIGO_DANE    COD_SECTOR  COD_CALENDARIO  \\\n",
       "count        1.425959e+06  1.425959e+06  1.425959e+06    1.384657e+06   \n",
       "mean         2.340792e+04  2.062407e+11  1.001086e+03    5.200056e+01   \n",
       "std          2.891797e+02  6.020025e+10  2.798711e-01    2.357510e-02   \n",
       "min          2.300100e+04  1.230010e+11  1.001000e+03    5.200000e+01   \n",
       "25%          2.309000e+04  1.236860e+11  1.001000e+03    5.200000e+01   \n",
       "50%          2.346600e+04  2.234170e+11  1.001000e+03    5.200000e+01   \n",
       "75%          2.367000e+04  2.236700e+11  1.001000e+03    5.200000e+01   \n",
       "max          2.385500e+04  8.230010e+11  1.002000e+03    5.300000e+01   \n",
       "\n",
       "       CODIGO_DANE_SEDE      COD_ZONA  COD_TIPO_JORNADA   CODIGO_GRADO  \\\n",
       "count      1.425959e+06  1.425959e+06      1.425959e+06  444435.000000   \n",
       "mean       2.077965e+11  1.004651e+03      2.734315e+00       6.230063   \n",
       "std        6.263321e+10  4.765715e-01      1.320394e+00       7.114362   \n",
       "min        1.230010e+11  1.004000e+03      1.000000e+00      -2.000000   \n",
       "25%        1.238070e+11  1.004000e+03      2.000000e+00       2.000000   \n",
       "50%        2.234170e+11  1.005000e+03      2.000000e+00       5.000000   \n",
       "75%        2.236700e+11  1.005000e+03      3.000000e+00       8.000000   \n",
       "max        8.956000e+11  1.005000e+03      6.000000e+00      99.000000   \n",
       "\n",
       "       COD_METODOLOGIA  COD_CARACTER  COD_ESPECIALIDAD          EDAD  \\\n",
       "count     1.425959e+06  1.384657e+06      1.384657e+06  1.425959e+06   \n",
       "mean      2.890793e+00  8.327550e-02      4.126769e-01  1.214608e+01   \n",
       "std       5.457206e+00  2.923737e-01      1.453940e+00  7.516526e+00   \n",
       "min       1.000000e+00  0.000000e+00      0.000000e+00  0.000000e+00   \n",
       "25%       1.000000e+00  0.000000e+00      0.000000e+00  8.000000e+00   \n",
       "50%       1.000000e+00  0.000000e+00      0.000000e+00  1.100000e+01   \n",
       "75%       2.000000e+00  0.000000e+00      0.000000e+00  1.500000e+01   \n",
       "max       4.400000e+01  3.000000e+00      1.600000e+01  9.800000e+01   \n",
       "\n",
       "       COD_GRUPO_ETNICO  COD_SECTOR_CONPES  TOTAL_MATRICULA      COD_GRADO  \n",
       "count      1.425959e+06       1.425959e+06     1.425959e+06  981524.000000  \n",
       "mean       5.657952e+00       1.345081e+00     3.667568e+00       6.635365  \n",
       "std        2.628458e+01       8.439783e-01     5.909864e+00       7.962822  \n",
       "min        0.000000e+00       1.000000e+00     0.000000e+00      -3.000000  \n",
       "25%        0.000000e+00       1.000000e+00     1.000000e+00       2.000000  \n",
       "50%        0.000000e+00       1.000000e+00     2.000000e+00       4.000000  \n",
       "75%        0.000000e+00       1.000000e+00     4.000000e+00       8.000000  \n",
       "max        9.990000e+02       4.000000e+00     9.670000e+02      99.000000  "
      ]
     },
     "execution_count": 6,
     "metadata": {},
     "output_type": "execute_result"
    }
   ],
   "source": [
    "data_2010_2021.describe()"
   ]
  },
  {
   "cell_type": "code",
   "execution_count": 7,
   "metadata": {},
   "outputs": [
    {
     "data": {
      "text/plain": [
       "ANNO_INF                    int64\n",
       "COD_DANE_DEPARTAMENTO       int64\n",
       "DEPARTAMENTO               object\n",
       "COD_SECRETARIA              int64\n",
       "SECRETARIA                 object\n",
       "COD_DANE_MUNICIPIO          int64\n",
       "MUNICIPIO                  object\n",
       "CODIGO_DANE                 int64\n",
       "NOMBRE_ESTABLECIMIENTO     object\n",
       "COD_SECTOR                  int64\n",
       "SECTOR                     object\n",
       "COD_CALENDARIO            float64\n",
       "CALENDARIO                 object\n",
       "CODIGO_DANE_SEDE            int64\n",
       "NOMBRE_SEDE                object\n",
       "COD_ZONA                    int64\n",
       "ZONA                       object\n",
       "COD_TIPO_JORNADA            int64\n",
       "TIPO_JORNADA               object\n",
       "CODIGO_GRADO              float64\n",
       "GRADO                      object\n",
       "COD_METODOLOGIA             int64\n",
       "METODOLOGIA                object\n",
       "COD_CARACTER              float64\n",
       "CARACTER                   object\n",
       "COD_ESPECIALIDAD          float64\n",
       "ESPECIALIDAD               object\n",
       "EDAD                        int64\n",
       "COD_GENERO                 object\n",
       "GENERO                     object\n",
       "COD_GRUPO_ETNICO            int64\n",
       "GRUPO_ETNICO               object\n",
       "COD_SECTOR_CONPES           int64\n",
       "SECTOR_CONPES              object\n",
       "TOTAL_MATRICULA             int64\n",
       "COD_GRADO                 float64\n",
       "dtype: object"
      ]
     },
     "execution_count": 7,
     "metadata": {},
     "output_type": "execute_result"
    }
   ],
   "source": [
    "data_2010_2021.dtypes"
   ]
  },
  {
   "cell_type": "code",
   "execution_count": 8,
   "metadata": {},
   "outputs": [
    {
     "name": "stdout",
     "output_type": "stream",
     "text": [
      "<class 'pandas.core.frame.DataFrame'>\n",
      "Int64Index: 1425959 entries, 0 to 981523\n",
      "Data columns (total 36 columns):\n",
      " #   Column                  Non-Null Count    Dtype  \n",
      "---  ------                  --------------    -----  \n",
      " 0   ANNO_INF                1425959 non-null  int64  \n",
      " 1   COD_DANE_DEPARTAMENTO   1425959 non-null  int64  \n",
      " 2   DEPARTAMENTO            1425959 non-null  object \n",
      " 3   COD_SECRETARIA          1425959 non-null  int64  \n",
      " 4   SECRETARIA              1425959 non-null  object \n",
      " 5   COD_DANE_MUNICIPIO      1425959 non-null  int64  \n",
      " 6   MUNICIPIO               1425959 non-null  object \n",
      " 7   CODIGO_DANE             1425959 non-null  int64  \n",
      " 8   NOMBRE_ESTABLECIMIENTO  1403982 non-null  object \n",
      " 9   COD_SECTOR              1425959 non-null  int64  \n",
      " 10  SECTOR                  1425959 non-null  object \n",
      " 11  COD_CALENDARIO          1384657 non-null  float64\n",
      " 12  CALENDARIO              1384657 non-null  object \n",
      " 13  CODIGO_DANE_SEDE        1425959 non-null  int64  \n",
      " 14  NOMBRE_SEDE             1277065 non-null  object \n",
      " 15  COD_ZONA                1425959 non-null  int64  \n",
      " 16  ZONA                    1425959 non-null  object \n",
      " 17  COD_TIPO_JORNADA        1425959 non-null  int64  \n",
      " 18  TIPO_JORNADA            1425959 non-null  object \n",
      " 19  CODIGO_GRADO            444435 non-null   float64\n",
      " 20  GRADO                   1425959 non-null  object \n",
      " 21  COD_METODOLOGIA         1425959 non-null  int64  \n",
      " 22  METODOLOGIA             1418188 non-null  object \n",
      " 23  COD_CARACTER            1384657 non-null  float64\n",
      " 24  CARACTER                1384657 non-null  object \n",
      " 25  COD_ESPECIALIDAD        1384657 non-null  float64\n",
      " 26  ESPECIALIDAD            1384657 non-null  object \n",
      " 27  EDAD                    1425959 non-null  int64  \n",
      " 28  COD_GENERO              1425959 non-null  object \n",
      " 29  GENERO                  1425959 non-null  object \n",
      " 30  COD_GRUPO_ETNICO        1425959 non-null  int64  \n",
      " 31  GRUPO_ETNICO            1367687 non-null  object \n",
      " 32  COD_SECTOR_CONPES       1425959 non-null  int64  \n",
      " 33  SECTOR_CONPES           1425959 non-null  object \n",
      " 34  TOTAL_MATRICULA         1425959 non-null  int64  \n",
      " 35  COD_GRADO               981524 non-null   float64\n",
      "dtypes: float64(5), int64(14), object(17)\n",
      "memory usage: 402.5+ MB\n"
     ]
    }
   ],
   "source": [
    "data_2010_2021.info()"
   ]
  },
  {
   "cell_type": "code",
   "execution_count": 9,
   "metadata": {},
   "outputs": [],
   "source": [
    "# Borramos columnas que para este caso no se van a usar porque resultan irrelevantes\n",
    "data_2010_2021 = data_2010_2021.drop([\"COD_DANE_DEPARTAMENTO\",\n",
    "\"COD_SECRETARIA\",\t\n",
    "\"COD_DANE_MUNICIPIO\",\n",
    "\"CODIGO_DANE\",\n",
    "\"COD_SECTOR\",\n",
    "\"COD_CALENDARIO\",\n",
    "\"CODIGO_DANE_SEDE\",\n",
    "\"COD_ZONA\",\n",
    "\"COD_TIPO_JORNADA\",\n",
    "\"CODIGO_GRADO\",\n",
    "\"COD_METODOLOGIA\",\n",
    "\"COD_CARACTER\",\n",
    "\"COD_ESPECIALIDAD\",\n",
    "\"GENERO\",\n",
    "\"COD_GRUPO_ETNICO\",\n",
    "\"COD_SECTOR_CONPES\",\n",
    "\"COD_SECTOR_CONPES\", \n",
    "\"COD_GRADO\"], axis=1)"
   ]
  },
  {
   "cell_type": "markdown",
   "metadata": {},
   "source": [
    "#### Entre la data numerica que tenemos en el dataset se aprecia que hay 2 columnas de este tipo (EDAD y TOTAL_MATRICULA)\n",
    "#### Donde la media de la edad se encuentra en los 12 años con una desviacion estadar de 7, es decir, que en sun gran mayoria los estudiantes matriculados estan en un rango de edad de entre 5 y 19 años"
   ]
  },
  {
   "cell_type": "code",
   "execution_count": 10,
   "metadata": {},
   "outputs": [
    {
     "data": {
      "text/html": [
       "<div>\n",
       "<style scoped>\n",
       "    .dataframe tbody tr th:only-of-type {\n",
       "        vertical-align: middle;\n",
       "    }\n",
       "\n",
       "    .dataframe tbody tr th {\n",
       "        vertical-align: top;\n",
       "    }\n",
       "\n",
       "    .dataframe thead th {\n",
       "        text-align: right;\n",
       "    }\n",
       "</style>\n",
       "<table border=\"1\" class=\"dataframe\">\n",
       "  <thead>\n",
       "    <tr style=\"text-align: right;\">\n",
       "      <th></th>\n",
       "      <th>ANNO_INF</th>\n",
       "      <th>EDAD</th>\n",
       "      <th>TOTAL_MATRICULA</th>\n",
       "    </tr>\n",
       "  </thead>\n",
       "  <tbody>\n",
       "    <tr>\n",
       "      <th>count</th>\n",
       "      <td>1425959.0</td>\n",
       "      <td>1425959.0</td>\n",
       "      <td>1425959.0</td>\n",
       "    </tr>\n",
       "    <tr>\n",
       "      <th>mean</th>\n",
       "      <td>2015.0</td>\n",
       "      <td>12.0</td>\n",
       "      <td>4.0</td>\n",
       "    </tr>\n",
       "    <tr>\n",
       "      <th>std</th>\n",
       "      <td>3.0</td>\n",
       "      <td>8.0</td>\n",
       "      <td>6.0</td>\n",
       "    </tr>\n",
       "    <tr>\n",
       "      <th>min</th>\n",
       "      <td>2010.0</td>\n",
       "      <td>0.0</td>\n",
       "      <td>0.0</td>\n",
       "    </tr>\n",
       "    <tr>\n",
       "      <th>25%</th>\n",
       "      <td>2012.0</td>\n",
       "      <td>8.0</td>\n",
       "      <td>1.0</td>\n",
       "    </tr>\n",
       "    <tr>\n",
       "      <th>50%</th>\n",
       "      <td>2015.0</td>\n",
       "      <td>11.0</td>\n",
       "      <td>2.0</td>\n",
       "    </tr>\n",
       "    <tr>\n",
       "      <th>75%</th>\n",
       "      <td>2018.0</td>\n",
       "      <td>15.0</td>\n",
       "      <td>4.0</td>\n",
       "    </tr>\n",
       "    <tr>\n",
       "      <th>max</th>\n",
       "      <td>2021.0</td>\n",
       "      <td>98.0</td>\n",
       "      <td>967.0</td>\n",
       "    </tr>\n",
       "  </tbody>\n",
       "</table>\n",
       "</div>"
      ],
      "text/plain": [
       "        ANNO_INF       EDAD  TOTAL_MATRICULA\n",
       "count  1425959.0  1425959.0        1425959.0\n",
       "mean      2015.0       12.0              4.0\n",
       "std          3.0        8.0              6.0\n",
       "min       2010.0        0.0              0.0\n",
       "25%       2012.0        8.0              1.0\n",
       "50%       2015.0       11.0              2.0\n",
       "75%       2018.0       15.0              4.0\n",
       "max       2021.0       98.0            967.0"
      ]
     },
     "execution_count": 10,
     "metadata": {},
     "output_type": "execute_result"
    }
   ],
   "source": [
    "np.round(data_2010_2021.describe())"
   ]
  },
  {
   "cell_type": "markdown",
   "metadata": {},
   "source": [
    "### Se observa que tenemos 1.177.622 registros con 18 columnas"
   ]
  },
  {
   "cell_type": "code",
   "execution_count": 11,
   "metadata": {},
   "outputs": [
    {
     "data": {
      "text/plain": [
       "(1425959, 19)"
      ]
     },
     "execution_count": 11,
     "metadata": {},
     "output_type": "execute_result"
    }
   ],
   "source": [
    "data_2010_2021.shape"
   ]
  },
  {
   "cell_type": "markdown",
   "metadata": {},
   "source": [
    "#### Según la grafica siguiente notamos una relacion entre la edad y la cantidad de matriculados, ya que a medida que se tiene más edad va a ser menor la cantidad de matriculados"
   ]
  },
  {
   "cell_type": "code",
   "execution_count": 12,
   "metadata": {},
   "outputs": [
    {
     "data": {
      "image/png": "[encoded data removed]",
      "text/plain": [
       "<Figure size 640x480 with 1 Axes>"
      ]
     },
     "metadata": {},
     "output_type": "display_data"
    }
   ],
   "source": [
    "data_2010_2021.plot.scatter(x=\"EDAD\" ,y=\"TOTAL_MATRICULA\");"
   ]
  },
  {
   "cell_type": "code",
   "execution_count": 13,
   "metadata": {},
   "outputs": [
    {
     "data": {
      "text/plain": [
       "(1425959, 19)"
      ]
     },
     "execution_count": 13,
     "metadata": {},
     "output_type": "execute_result"
    }
   ],
   "source": [
    "data_2010_2021.shape"
   ]
  },
  {
   "cell_type": "markdown",
   "metadata": {},
   "source": [
    "### Ahora con nuestro dataset conlumnas borradas se ve claramente que hay algunas columnas con datos faltantes o nulos"
   ]
  },
  {
   "cell_type": "code",
   "execution_count": 14,
   "metadata": {},
   "outputs": [
    {
     "name": "stdout",
     "output_type": "stream",
     "text": [
      "<class 'pandas.core.frame.DataFrame'>\n",
      "Int64Index: 1425959 entries, 0 to 981523\n",
      "Data columns (total 19 columns):\n",
      " #   Column                  Non-Null Count    Dtype \n",
      "---  ------                  --------------    ----- \n",
      " 0   ANNO_INF                1425959 non-null  int64 \n",
      " 1   DEPARTAMENTO            1425959 non-null  object\n",
      " 2   SECRETARIA              1425959 non-null  object\n",
      " 3   MUNICIPIO               1425959 non-null  object\n",
      " 4   NOMBRE_ESTABLECIMIENTO  1403982 non-null  object\n",
      " 5   SECTOR                  1425959 non-null  object\n",
      " 6   CALENDARIO              1384657 non-null  object\n",
      " 7   NOMBRE_SEDE             1277065 non-null  object\n",
      " 8   ZONA                    1425959 non-null  object\n",
      " 9   TIPO_JORNADA            1425959 non-null  object\n",
      " 10  GRADO                   1425959 non-null  object\n",
      " 11  METODOLOGIA             1418188 non-null  object\n",
      " 12  CARACTER                1384657 non-null  object\n",
      " 13  ESPECIALIDAD            1384657 non-null  object\n",
      " 14  EDAD                    1425959 non-null  int64 \n",
      " 15  COD_GENERO              1425959 non-null  object\n",
      " 16  GRUPO_ETNICO            1367687 non-null  object\n",
      " 17  SECTOR_CONPES           1425959 non-null  object\n",
      " 18  TOTAL_MATRICULA         1425959 non-null  int64 \n",
      "dtypes: int64(3), object(16)\n",
      "memory usage: 217.6+ MB\n"
     ]
    }
   ],
   "source": [
    "data_2010_2021.info()"
   ]
  },
  {
   "cell_type": "code",
   "execution_count": null,
   "metadata": {},
   "outputs": [],
   "source": []
  },
  {
   "cell_type": "code",
   "execution_count": 17,
   "metadata": {},
   "outputs": [],
   "source": [
    "#data_2010_2021.dropna(inplace=True)\n",
    "# Borramos datos nulos"
   ]
  },
  {
   "cell_type": "code",
   "execution_count": null,
   "metadata": {},
   "outputs": [],
   "source": []
  },
  {
   "cell_type": "code",
   "execution_count": 64,
   "metadata": {},
   "outputs": [
    {
     "data": {
      "text/plain": [
       "ANNO_INF                  0\n",
       "DEPARTAMENTO              0\n",
       "SECRETARIA                0\n",
       "MUNICIPIO                 0\n",
       "NOMBRE_ESTABLECIMIENTO    0\n",
       "SECTOR                    0\n",
       "CALENDARIO                0\n",
       "NOMBRE_SEDE               0\n",
       "ZONA                      0\n",
       "TIPO_JORNADA              0\n",
       "GRADO                     0\n",
       "METODOLOGIA               0\n",
       "CARACTER                  0\n",
       "ESPECIALIDAD              0\n",
       "EDAD                      0\n",
       "COD_GENERO                0\n",
       "GRUPO_ETNICO              0\n",
       "SECTOR_CONPES             0\n",
       "TOTAL_MATRICULA           0\n",
       "dtype: int64"
      ]
     },
     "execution_count": 64,
     "metadata": {},
     "output_type": "execute_result"
    }
   ],
   "source": [
    "data_2010_2021.isna().sum()"
   ]
  },
  {
   "cell_type": "code",
   "execution_count": 65,
   "metadata": {},
   "outputs": [
    {
     "data": {
      "text/plain": [
       "2015    138721\n",
       "2017    117902\n",
       "2010    110295\n",
       "2011    109542\n",
       "2013    108960\n",
       "2012    108806\n",
       "2020    106698\n",
       "2014    103448\n",
       "2018     96632\n",
       "2019     91303\n",
       "2021     85315\n",
       "Name: ANNO_INF, dtype: int64"
      ]
     },
     "execution_count": 65,
     "metadata": {},
     "output_type": "execute_result"
    }
   ],
   "source": [
    "data_2010_2021.ANNO_INF.value_counts()"
   ]
  },
  {
   "cell_type": "markdown",
   "metadata": {},
   "source": [
    "#### Vemos nuevamente la la info del dataset limpio y notamos que los datos que teniamos anteriormente sin haber limpiado el dataset se mantienen iguales"
   ]
  },
  {
   "cell_type": "code",
   "execution_count": 17,
   "metadata": {},
   "outputs": [
    {
     "data": {
      "text/html": [
       "<div>\n",
       "<style scoped>\n",
       "    .dataframe tbody tr th:only-of-type {\n",
       "        vertical-align: middle;\n",
       "    }\n",
       "\n",
       "    .dataframe tbody tr th {\n",
       "        vertical-align: top;\n",
       "    }\n",
       "\n",
       "    .dataframe thead th {\n",
       "        text-align: right;\n",
       "    }\n",
       "</style>\n",
       "<table border=\"1\" class=\"dataframe\">\n",
       "  <thead>\n",
       "    <tr style=\"text-align: right;\">\n",
       "      <th></th>\n",
       "      <th>ANNO_INF</th>\n",
       "      <th>EDAD</th>\n",
       "      <th>TOTAL_MATRICULA</th>\n",
       "    </tr>\n",
       "  </thead>\n",
       "  <tbody>\n",
       "    <tr>\n",
       "      <th>count</th>\n",
       "      <td>1177622.0</td>\n",
       "      <td>1177622.0</td>\n",
       "      <td>1177622.0</td>\n",
       "    </tr>\n",
       "    <tr>\n",
       "      <th>mean</th>\n",
       "      <td>2015.0</td>\n",
       "      <td>12.0</td>\n",
       "      <td>4.0</td>\n",
       "    </tr>\n",
       "    <tr>\n",
       "      <th>std</th>\n",
       "      <td>4.0</td>\n",
       "      <td>7.0</td>\n",
       "      <td>6.0</td>\n",
       "    </tr>\n",
       "    <tr>\n",
       "      <th>min</th>\n",
       "      <td>2010.0</td>\n",
       "      <td>0.0</td>\n",
       "      <td>0.0</td>\n",
       "    </tr>\n",
       "    <tr>\n",
       "      <th>25%</th>\n",
       "      <td>2012.0</td>\n",
       "      <td>8.0</td>\n",
       "      <td>1.0</td>\n",
       "    </tr>\n",
       "    <tr>\n",
       "      <th>50%</th>\n",
       "      <td>2015.0</td>\n",
       "      <td>11.0</td>\n",
       "      <td>2.0</td>\n",
       "    </tr>\n",
       "    <tr>\n",
       "      <th>75%</th>\n",
       "      <td>2018.0</td>\n",
       "      <td>15.0</td>\n",
       "      <td>4.0</td>\n",
       "    </tr>\n",
       "    <tr>\n",
       "      <th>max</th>\n",
       "      <td>2021.0</td>\n",
       "      <td>96.0</td>\n",
       "      <td>967.0</td>\n",
       "    </tr>\n",
       "  </tbody>\n",
       "</table>\n",
       "</div>"
      ],
      "text/plain": [
       "        ANNO_INF       EDAD  TOTAL_MATRICULA\n",
       "count  1177622.0  1177622.0        1177622.0\n",
       "mean      2015.0       12.0              4.0\n",
       "std          4.0        7.0              6.0\n",
       "min       2010.0        0.0              0.0\n",
       "25%       2012.0        8.0              1.0\n",
       "50%       2015.0       11.0              2.0\n",
       "75%       2018.0       15.0              4.0\n",
       "max       2021.0       96.0            967.0"
      ]
     },
     "execution_count": 17,
     "metadata": {},
     "output_type": "execute_result"
    }
   ],
   "source": [
    "np.round(data_2010_2021.describe())"
   ]
  },
  {
   "cell_type": "code",
   "execution_count": 18,
   "metadata": {},
   "outputs": [
    {
     "data": {
      "text/html": [
       "<div>\n",
       "<style scoped>\n",
       "    .dataframe tbody tr th:only-of-type {\n",
       "        vertical-align: middle;\n",
       "    }\n",
       "\n",
       "    .dataframe tbody tr th {\n",
       "        vertical-align: top;\n",
       "    }\n",
       "\n",
       "    .dataframe thead th {\n",
       "        text-align: right;\n",
       "    }\n",
       "</style>\n",
       "<table border=\"1\" class=\"dataframe\">\n",
       "  <thead>\n",
       "    <tr style=\"text-align: right;\">\n",
       "      <th></th>\n",
       "      <th>ANNO_INF</th>\n",
       "      <th>DEPARTAMENTO</th>\n",
       "      <th>SECRETARIA</th>\n",
       "      <th>MUNICIPIO</th>\n",
       "      <th>NOMBRE_ESTABLECIMIENTO</th>\n",
       "      <th>SECTOR</th>\n",
       "      <th>CALENDARIO</th>\n",
       "      <th>NOMBRE_SEDE</th>\n",
       "      <th>ZONA</th>\n",
       "      <th>TIPO_JORNADA</th>\n",
       "      <th>GRADO</th>\n",
       "      <th>METODOLOGIA</th>\n",
       "      <th>CARACTER</th>\n",
       "      <th>ESPECIALIDAD</th>\n",
       "      <th>EDAD</th>\n",
       "      <th>COD_GENERO</th>\n",
       "      <th>GRUPO_ETNICO</th>\n",
       "      <th>SECTOR_CONPES</th>\n",
       "      <th>TOTAL_MATRICULA</th>\n",
       "    </tr>\n",
       "  </thead>\n",
       "  <tbody>\n",
       "    <tr>\n",
       "      <th>0</th>\n",
       "      <td>2019</td>\n",
       "      <td>CÓRDOBA</td>\n",
       "      <td>CÓRDOBA</td>\n",
       "      <td>MOÑITOS</td>\n",
       "      <td>I.E. RIO CEDRO</td>\n",
       "      <td>OFICIAL</td>\n",
       "      <td>A</td>\n",
       "      <td>ESCUELA NUEVA EL CONSUELO</td>\n",
       "      <td>Rural</td>\n",
       "      <td>Mañana</td>\n",
       "      <td>Transición</td>\n",
       "      <td>Escuela nueva</td>\n",
       "      <td>No Aplica</td>\n",
       "      <td>No aplica</td>\n",
       "      <td>5</td>\n",
       "      <td>M</td>\n",
       "      <td>No aplica</td>\n",
       "      <td>OFICIAL</td>\n",
       "      <td>1</td>\n",
       "    </tr>\n",
       "    <tr>\n",
       "      <th>1</th>\n",
       "      <td>2019</td>\n",
       "      <td>CÓRDOBA</td>\n",
       "      <td>CÓRDOBA</td>\n",
       "      <td>MONTELÍBANO</td>\n",
       "      <td>CENTRO EDC. ESPIRIRU SANTO</td>\n",
       "      <td>OFICIAL</td>\n",
       "      <td>A</td>\n",
       "      <td>ESC. NUEVA ESPERANZA</td>\n",
       "      <td>Rural</td>\n",
       "      <td>Mañana</td>\n",
       "      <td>Transición</td>\n",
       "      <td>Escuela nueva</td>\n",
       "      <td>No Aplica</td>\n",
       "      <td>No aplica</td>\n",
       "      <td>5</td>\n",
       "      <td>M</td>\n",
       "      <td>No aplica</td>\n",
       "      <td>OFICIAL</td>\n",
       "      <td>2</td>\n",
       "    </tr>\n",
       "    <tr>\n",
       "      <th>2</th>\n",
       "      <td>2019</td>\n",
       "      <td>CÓRDOBA</td>\n",
       "      <td>CÓRDOBA</td>\n",
       "      <td>LOS CÓRDOBAS</td>\n",
       "      <td>INSTITUCION EDUCATIVA NUEVO NARIÑO</td>\n",
       "      <td>OFICIAL</td>\n",
       "      <td>A</td>\n",
       "      <td>ESC NVA  LAS TINAS</td>\n",
       "      <td>Rural</td>\n",
       "      <td>Mañana</td>\n",
       "      <td>Transición</td>\n",
       "      <td>Escuela nueva</td>\n",
       "      <td>No Aplica</td>\n",
       "      <td>No aplica</td>\n",
       "      <td>5</td>\n",
       "      <td>M</td>\n",
       "      <td>No aplica</td>\n",
       "      <td>OFICIAL</td>\n",
       "      <td>1</td>\n",
       "    </tr>\n",
       "    <tr>\n",
       "      <th>3</th>\n",
       "      <td>2019</td>\n",
       "      <td>CÓRDOBA</td>\n",
       "      <td>CÓRDOBA</td>\n",
       "      <td>LOS CÓRDOBAS</td>\n",
       "      <td>INSTITUCION EDUCATIVA NUEVO NARIÑO</td>\n",
       "      <td>OFICIAL</td>\n",
       "      <td>A</td>\n",
       "      <td>ESC NVA  LAS TINAS</td>\n",
       "      <td>Rural</td>\n",
       "      <td>Mañana</td>\n",
       "      <td>Transición</td>\n",
       "      <td>Escuela nueva</td>\n",
       "      <td>No Aplica</td>\n",
       "      <td>No aplica</td>\n",
       "      <td>5</td>\n",
       "      <td>F</td>\n",
       "      <td>No aplica</td>\n",
       "      <td>OFICIAL</td>\n",
       "      <td>1</td>\n",
       "    </tr>\n",
       "    <tr>\n",
       "      <th>4</th>\n",
       "      <td>2019</td>\n",
       "      <td>CÓRDOBA</td>\n",
       "      <td>CÓRDOBA</td>\n",
       "      <td>MOMIL</td>\n",
       "      <td>INST EDUCATIVO SAN PEDRO CLAVER</td>\n",
       "      <td>OFICIAL</td>\n",
       "      <td>A</td>\n",
       "      <td>ESC NVA INMACULADA CONCEPCION</td>\n",
       "      <td>Rural</td>\n",
       "      <td>Mañana</td>\n",
       "      <td>Transición</td>\n",
       "      <td>Escuela nueva</td>\n",
       "      <td>No Aplica</td>\n",
       "      <td>No aplica</td>\n",
       "      <td>4</td>\n",
       "      <td>M</td>\n",
       "      <td>No aplica</td>\n",
       "      <td>OFICIAL</td>\n",
       "      <td>2</td>\n",
       "    </tr>\n",
       "  </tbody>\n",
       "</table>\n",
       "</div>"
      ],
      "text/plain": [
       "   ANNO_INF DEPARTAMENTO SECRETARIA     MUNICIPIO  \\\n",
       "0      2019      CÓRDOBA    CÓRDOBA       MOÑITOS   \n",
       "1      2019      CÓRDOBA    CÓRDOBA   MONTELÍBANO   \n",
       "2      2019      CÓRDOBA    CÓRDOBA  LOS CÓRDOBAS   \n",
       "3      2019      CÓRDOBA    CÓRDOBA  LOS CÓRDOBAS   \n",
       "4      2019      CÓRDOBA    CÓRDOBA         MOMIL   \n",
       "\n",
       "               NOMBRE_ESTABLECIMIENTO   SECTOR CALENDARIO  \\\n",
       "0                      I.E. RIO CEDRO  OFICIAL          A   \n",
       "1          CENTRO EDC. ESPIRIRU SANTO  OFICIAL          A   \n",
       "2  INSTITUCION EDUCATIVA NUEVO NARIÑO  OFICIAL          A   \n",
       "3  INSTITUCION EDUCATIVA NUEVO NARIÑO  OFICIAL          A   \n",
       "4     INST EDUCATIVO SAN PEDRO CLAVER  OFICIAL          A   \n",
       "\n",
       "                     NOMBRE_SEDE   ZONA TIPO_JORNADA       GRADO  \\\n",
       "0      ESCUELA NUEVA EL CONSUELO  Rural       Mañana  Transición   \n",
       "1           ESC. NUEVA ESPERANZA  Rural       Mañana  Transición   \n",
       "2             ESC NVA  LAS TINAS  Rural       Mañana  Transición   \n",
       "3             ESC NVA  LAS TINAS  Rural       Mañana  Transición   \n",
       "4  ESC NVA INMACULADA CONCEPCION  Rural       Mañana  Transición   \n",
       "\n",
       "     METODOLOGIA   CARACTER ESPECIALIDAD  EDAD COD_GENERO GRUPO_ETNICO  \\\n",
       "0  Escuela nueva  No Aplica    No aplica     5          M    No aplica   \n",
       "1  Escuela nueva  No Aplica    No aplica     5          M    No aplica   \n",
       "2  Escuela nueva  No Aplica    No aplica     5          M    No aplica   \n",
       "3  Escuela nueva  No Aplica    No aplica     5          F    No aplica   \n",
       "4  Escuela nueva  No Aplica    No aplica     4          M    No aplica   \n",
       "\n",
       "  SECTOR_CONPES  TOTAL_MATRICULA  \n",
       "0       OFICIAL                1  \n",
       "1       OFICIAL                2  \n",
       "2       OFICIAL                1  \n",
       "3       OFICIAL                1  \n",
       "4       OFICIAL                2  "
      ]
     },
     "execution_count": 18,
     "metadata": {},
     "output_type": "execute_result"
    }
   ],
   "source": [
    "data_2010_2021.head()"
   ]
  },
  {
   "cell_type": "code",
   "execution_count": 19,
   "metadata": {},
   "outputs": [
    {
     "data": {
      "text/plain": [
       "array(['MOÑITOS', 'MONTELÍBANO', 'LOS CÓRDOBAS', 'MOMIL',\n",
       "       'CIENAGA DE ORO', 'CHINU', 'CHIMÁ', 'LORICA', 'AYAPEL',\n",
       "       'SAN ANTERO', 'BUENAVISTA', 'CANALETE', 'SAHAGÚN', 'CERETE',\n",
       "       'MONTERÍA', 'TIERRALTA', 'PLANETA RICA', 'VALENCIA',\n",
       "       'PUEBLO NUEVO', 'SAN ANDRÉS DE SOTAVENTO', 'SAN CARLOS',\n",
       "       'PUERTO ESCONDIDO', 'SAN PELAYO', 'TUCHÍN', 'SAN JOSÉ DE URÉ',\n",
       "       'LA APARTADA', 'COTORRA', 'PUERTO LIBERTADOR',\n",
       "       'SAN BERNARDO DEL VIENTO', 'PURÍSIMA', 'Lorica', 'Cotorra',\n",
       "       'Cienaga De Oro', 'Puerto Escondido', 'Purísima', 'Tierralta',\n",
       "       'Chinu', 'Pueblo Nuevo', 'San Antero', 'Buenavista', 'Montelíbano',\n",
       "       'Canalete', 'Puerto Libertador', 'Planeta Rica', 'Chimá',\n",
       "       'San Andrés de Sotavento', 'San Pelayo', 'San Carlos',\n",
       "       'San Bernardo Del Viento', 'Moñitos', 'Ayapel', 'Cerete',\n",
       "       'Los Córdobas', 'Montería', 'Valencia', 'San José de Uré',\n",
       "       'Sahagún', 'Momil', 'La Apartada', 'Tuchín'], dtype=object)"
      ]
     },
     "execution_count": 19,
     "metadata": {},
     "output_type": "execute_result"
    }
   ],
   "source": [
    "data_2010_2021[\"MUNICIPIO\"].unique()\n",
    "# Como se observa, en tenemos los municipios duplicados a razón de que unos están escritos en mayusculas"
   ]
  },
  {
   "cell_type": "code",
   "execution_count": 20,
   "metadata": {},
   "outputs": [],
   "source": [
    "# Procedemos a convertir los nombres de tal manera que coincidan y lo haremos con str.capitalize()\n",
    "data_2010_2021[\"MUNICIPIO\"] = data_2010_2021[\"MUNICIPIO\"].str.capitalize()"
   ]
  },
  {
   "cell_type": "code",
   "execution_count": 21,
   "metadata": {},
   "outputs": [
    {
     "data": {
      "text/plain": [
       "array(['Moñitos', 'Montelíbano', 'Los córdobas', 'Momil',\n",
       "       'Cienaga de oro', 'Chinu', 'Chimá', 'Lorica', 'Ayapel',\n",
       "       'San antero', 'Buenavista', 'Canalete', 'Sahagún', 'Cerete',\n",
       "       'Montería', 'Tierralta', 'Planeta rica', 'Valencia',\n",
       "       'Pueblo nuevo', 'San andrés de sotavento', 'San carlos',\n",
       "       'Puerto escondido', 'San pelayo', 'Tuchín', 'San josé de uré',\n",
       "       'La apartada', 'Cotorra', 'Puerto libertador',\n",
       "       'San bernardo del viento', 'Purísima'], dtype=object)"
      ]
     },
     "execution_count": 21,
     "metadata": {},
     "output_type": "execute_result"
    }
   ],
   "source": [
    "data_2010_2021[\"MUNICIPIO\"].unique()"
   ]
  },
  {
   "cell_type": "code",
   "execution_count": 22,
   "metadata": {},
   "outputs": [
    {
     "data": {
      "text/plain": [
       "Montería                   212863\n",
       "Tierralta                   93282\n",
       "Lorica                      83703\n",
       "Sahagún                     58743\n",
       "Planeta rica                52768\n",
       "Cerete                      50334\n",
       "Montelíbano                 49376\n",
       "Ayapel                      47134\n",
       "Cienaga de oro              41511\n",
       "Chinu                       38228\n",
       "Puerto libertador           37072\n",
       "Valencia                    32491\n",
       "Pueblo nuevo                31641\n",
       "San pelayo                  31170\n",
       "Moñitos                     30405\n",
       "San bernardo del viento     29450\n",
       "San antero                  27865\n",
       "San andrés de sotavento     26678\n",
       "Puerto escondido            25306\n",
       "San carlos                  24111\n",
       "Buenavista                  22361\n",
       "Tuchín                      21856\n",
       "Canalete                    19254\n",
       "Los córdobas                16755\n",
       "Purísima                    14682\n",
       "San josé de uré             14118\n",
       "Cotorra                     13222\n",
       "Momil                       11767\n",
       "Chimá                       10710\n",
       "La apartada                  8766\n",
       "Name: MUNICIPIO, dtype: int64"
      ]
     },
     "execution_count": 22,
     "metadata": {},
     "output_type": "execute_result"
    }
   ],
   "source": [
    "data_2010_2021.MUNICIPIO.value_counts()"
   ]
  },
  {
   "cell_type": "code",
   "execution_count": 23,
   "metadata": {},
   "outputs": [
    {
     "data": {
      "text/plain": [
       "(30,)"
      ]
     },
     "execution_count": 23,
     "metadata": {},
     "output_type": "execute_result"
    }
   ],
   "source": [
    "data_2010_2021[\"MUNICIPIO\"].unique().shape\n",
    "# Y de esta forma tendriamos los nombres de los municipios estandarizados"
   ]
  },
  {
   "cell_type": "code",
   "execution_count": 24,
   "metadata": {},
   "outputs": [
    {
     "data": {
      "text/plain": [
       "0                                 I.E. RIO CEDRO\n",
       "1                     CENTRO EDC. ESPIRIRU SANTO\n",
       "2             INSTITUCION EDUCATIVA NUEVO NARIÑO\n",
       "3             INSTITUCION EDUCATIVA NUEVO NARIÑO\n",
       "4                INST EDUCATIVO SAN PEDRO CLAVER\n",
       "                           ...                  \n",
       "981519    INSTITUCION EDUCATIVA VILLA CONCEPCION\n",
       "981520            INST. EDUC. JOSO ANTONIO GALAN\n",
       "981521                     CENT. EDUC.R. MARRAL¿\n",
       "981522         INSTITUCION EDUCATIVA PUEBLO BUJO\n",
       "981523                    INST. EDC. GUACHARACAL\n",
       "Name: NOMBRE_ESTABLECIMIENTO, Length: 1177622, dtype: object"
      ]
     },
     "execution_count": 24,
     "metadata": {},
     "output_type": "execute_result"
    }
   ],
   "source": [
    "data_2010_2021[\"NOMBRE_ESTABLECIMIENTO\"]"
   ]
  },
  {
   "cell_type": "code",
   "execution_count": 25,
   "metadata": {},
   "outputs": [
    {
     "data": {
      "text/plain": [
       "array(['Escuela nueva', 'Educación tradicional', 'Media rural',\n",
       "       'Etnoeducación', 'Programa para jóvenes en extraedad y adultos',\n",
       "       'Telesecundaria', 'Crecer', 'Post primaria',\n",
       "       'Preescolar escolarizado', 'Circulos de aprendizaje',\n",
       "       'Grupos juveniles creativos', 'Aceleración del aprendizaje', 'Sat',\n",
       "       'Modalidad virtual asistida ucn',\n",
       "       'Modelo Ser Humano (CICLO 1, 2, 3, 4, 5,6)',\n",
       "       'Caminar en Secundaria', 'Espere', 'Cafam', 'Transformemos',\n",
       "       'Sat presencial', 'Ser',\n",
       "       'Preescolar no escolarizado/semiescolarizado'], dtype=object)"
      ]
     },
     "execution_count": 25,
     "metadata": {},
     "output_type": "execute_result"
    }
   ],
   "source": [
    "data_2010_2021[\"METODOLOGIA\"].unique()"
   ]
  },
  {
   "cell_type": "code",
   "execution_count": 26,
   "metadata": {},
   "outputs": [
    {
     "data": {
      "text/plain": [
       "<AxesSubplot:>"
      ]
     },
     "execution_count": 26,
     "metadata": {},
     "output_type": "execute_result"
    },
    {
     "data": {
      "image/png": "[encoded data removed]",
      "text/plain": [
       "<Figure size 640x480 with 1 Axes>"
      ]
     },
     "metadata": {},
     "output_type": "display_data"
    }
   ],
   "source": [
    "data_2010_2021[\"GRUPO_ETNICO\"].value_counts().plot(kind=\"bar\")\n",
    "# Podemos observar que la gran mayoria de estudiantes no pertenecen a un a un grupo etnico "
   ]
  },
  {
   "cell_type": "markdown",
   "metadata": {},
   "source": [
    "#### Porcentaje de matriculados en calendario A y B respectivamente"
   ]
  },
  {
   "cell_type": "code",
   "execution_count": 27,
   "metadata": {},
   "outputs": [
    {
     "data": {
      "image/png": "[encoded data removed]",
      "text/plain": [
       "<Figure size 640x480 with 1 Axes>"
      ]
     },
     "metadata": {},
     "output_type": "display_data"
    }
   ],
   "source": [
    "grafico = (100 * data_2010_2021[\"CALENDARIO\"].value_counts() / len(data_2010_2021[\"CALENDARIO\"])).plot(kind=\"bar\");"
   ]
  },
  {
   "cell_type": "code",
   "execution_count": 28,
   "metadata": {},
   "outputs": [
    {
     "data": {
      "text/html": [
       "<div>\n",
       "<style scoped>\n",
       "    .dataframe tbody tr th:only-of-type {\n",
       "        vertical-align: middle;\n",
       "    }\n",
       "\n",
       "    .dataframe tbody tr th {\n",
       "        vertical-align: top;\n",
       "    }\n",
       "\n",
       "    .dataframe thead th {\n",
       "        text-align: right;\n",
       "    }\n",
       "</style>\n",
       "<table border=\"1\" class=\"dataframe\">\n",
       "  <thead>\n",
       "    <tr style=\"text-align: right;\">\n",
       "      <th></th>\n",
       "      <th>ANNO_INF</th>\n",
       "      <th>DEPARTAMENTO</th>\n",
       "      <th>SECRETARIA</th>\n",
       "      <th>MUNICIPIO</th>\n",
       "      <th>NOMBRE_ESTABLECIMIENTO</th>\n",
       "      <th>SECTOR</th>\n",
       "      <th>CALENDARIO</th>\n",
       "      <th>NOMBRE_SEDE</th>\n",
       "      <th>ZONA</th>\n",
       "      <th>TIPO_JORNADA</th>\n",
       "      <th>GRADO</th>\n",
       "      <th>METODOLOGIA</th>\n",
       "      <th>CARACTER</th>\n",
       "      <th>ESPECIALIDAD</th>\n",
       "      <th>EDAD</th>\n",
       "      <th>COD_GENERO</th>\n",
       "      <th>GRUPO_ETNICO</th>\n",
       "      <th>SECTOR_CONPES</th>\n",
       "      <th>TOTAL_MATRICULA</th>\n",
       "    </tr>\n",
       "  </thead>\n",
       "  <tbody>\n",
       "    <tr>\n",
       "      <th>0</th>\n",
       "      <td>2019</td>\n",
       "      <td>CÓRDOBA</td>\n",
       "      <td>CÓRDOBA</td>\n",
       "      <td>Moñitos</td>\n",
       "      <td>I.E. RIO CEDRO</td>\n",
       "      <td>OFICIAL</td>\n",
       "      <td>A</td>\n",
       "      <td>ESCUELA NUEVA EL CONSUELO</td>\n",
       "      <td>Rural</td>\n",
       "      <td>Mañana</td>\n",
       "      <td>Transición</td>\n",
       "      <td>Escuela nueva</td>\n",
       "      <td>No Aplica</td>\n",
       "      <td>No aplica</td>\n",
       "      <td>5</td>\n",
       "      <td>M</td>\n",
       "      <td>No aplica</td>\n",
       "      <td>OFICIAL</td>\n",
       "      <td>1</td>\n",
       "    </tr>\n",
       "    <tr>\n",
       "      <th>1</th>\n",
       "      <td>2019</td>\n",
       "      <td>CÓRDOBA</td>\n",
       "      <td>CÓRDOBA</td>\n",
       "      <td>Montelíbano</td>\n",
       "      <td>CENTRO EDC. ESPIRIRU SANTO</td>\n",
       "      <td>OFICIAL</td>\n",
       "      <td>A</td>\n",
       "      <td>ESC. NUEVA ESPERANZA</td>\n",
       "      <td>Rural</td>\n",
       "      <td>Mañana</td>\n",
       "      <td>Transición</td>\n",
       "      <td>Escuela nueva</td>\n",
       "      <td>No Aplica</td>\n",
       "      <td>No aplica</td>\n",
       "      <td>5</td>\n",
       "      <td>M</td>\n",
       "      <td>No aplica</td>\n",
       "      <td>OFICIAL</td>\n",
       "      <td>2</td>\n",
       "    </tr>\n",
       "    <tr>\n",
       "      <th>2</th>\n",
       "      <td>2019</td>\n",
       "      <td>CÓRDOBA</td>\n",
       "      <td>CÓRDOBA</td>\n",
       "      <td>Los córdobas</td>\n",
       "      <td>INSTITUCION EDUCATIVA NUEVO NARIÑO</td>\n",
       "      <td>OFICIAL</td>\n",
       "      <td>A</td>\n",
       "      <td>ESC NVA  LAS TINAS</td>\n",
       "      <td>Rural</td>\n",
       "      <td>Mañana</td>\n",
       "      <td>Transición</td>\n",
       "      <td>Escuela nueva</td>\n",
       "      <td>No Aplica</td>\n",
       "      <td>No aplica</td>\n",
       "      <td>5</td>\n",
       "      <td>M</td>\n",
       "      <td>No aplica</td>\n",
       "      <td>OFICIAL</td>\n",
       "      <td>1</td>\n",
       "    </tr>\n",
       "    <tr>\n",
       "      <th>3</th>\n",
       "      <td>2019</td>\n",
       "      <td>CÓRDOBA</td>\n",
       "      <td>CÓRDOBA</td>\n",
       "      <td>Los córdobas</td>\n",
       "      <td>INSTITUCION EDUCATIVA NUEVO NARIÑO</td>\n",
       "      <td>OFICIAL</td>\n",
       "      <td>A</td>\n",
       "      <td>ESC NVA  LAS TINAS</td>\n",
       "      <td>Rural</td>\n",
       "      <td>Mañana</td>\n",
       "      <td>Transición</td>\n",
       "      <td>Escuela nueva</td>\n",
       "      <td>No Aplica</td>\n",
       "      <td>No aplica</td>\n",
       "      <td>5</td>\n",
       "      <td>F</td>\n",
       "      <td>No aplica</td>\n",
       "      <td>OFICIAL</td>\n",
       "      <td>1</td>\n",
       "    </tr>\n",
       "    <tr>\n",
       "      <th>4</th>\n",
       "      <td>2019</td>\n",
       "      <td>CÓRDOBA</td>\n",
       "      <td>CÓRDOBA</td>\n",
       "      <td>Momil</td>\n",
       "      <td>INST EDUCATIVO SAN PEDRO CLAVER</td>\n",
       "      <td>OFICIAL</td>\n",
       "      <td>A</td>\n",
       "      <td>ESC NVA INMACULADA CONCEPCION</td>\n",
       "      <td>Rural</td>\n",
       "      <td>Mañana</td>\n",
       "      <td>Transición</td>\n",
       "      <td>Escuela nueva</td>\n",
       "      <td>No Aplica</td>\n",
       "      <td>No aplica</td>\n",
       "      <td>4</td>\n",
       "      <td>M</td>\n",
       "      <td>No aplica</td>\n",
       "      <td>OFICIAL</td>\n",
       "      <td>2</td>\n",
       "    </tr>\n",
       "  </tbody>\n",
       "</table>\n",
       "</div>"
      ],
      "text/plain": [
       "   ANNO_INF DEPARTAMENTO SECRETARIA     MUNICIPIO  \\\n",
       "0      2019      CÓRDOBA    CÓRDOBA       Moñitos   \n",
       "1      2019      CÓRDOBA    CÓRDOBA   Montelíbano   \n",
       "2      2019      CÓRDOBA    CÓRDOBA  Los córdobas   \n",
       "3      2019      CÓRDOBA    CÓRDOBA  Los córdobas   \n",
       "4      2019      CÓRDOBA    CÓRDOBA         Momil   \n",
       "\n",
       "               NOMBRE_ESTABLECIMIENTO   SECTOR CALENDARIO  \\\n",
       "0                      I.E. RIO CEDRO  OFICIAL          A   \n",
       "1          CENTRO EDC. ESPIRIRU SANTO  OFICIAL          A   \n",
       "2  INSTITUCION EDUCATIVA NUEVO NARIÑO  OFICIAL          A   \n",
       "3  INSTITUCION EDUCATIVA NUEVO NARIÑO  OFICIAL          A   \n",
       "4     INST EDUCATIVO SAN PEDRO CLAVER  OFICIAL          A   \n",
       "\n",
       "                     NOMBRE_SEDE   ZONA TIPO_JORNADA       GRADO  \\\n",
       "0      ESCUELA NUEVA EL CONSUELO  Rural       Mañana  Transición   \n",
       "1           ESC. NUEVA ESPERANZA  Rural       Mañana  Transición   \n",
       "2             ESC NVA  LAS TINAS  Rural       Mañana  Transición   \n",
       "3             ESC NVA  LAS TINAS  Rural       Mañana  Transición   \n",
       "4  ESC NVA INMACULADA CONCEPCION  Rural       Mañana  Transición   \n",
       "\n",
       "     METODOLOGIA   CARACTER ESPECIALIDAD  EDAD COD_GENERO GRUPO_ETNICO  \\\n",
       "0  Escuela nueva  No Aplica    No aplica     5          M    No aplica   \n",
       "1  Escuela nueva  No Aplica    No aplica     5          M    No aplica   \n",
       "2  Escuela nueva  No Aplica    No aplica     5          M    No aplica   \n",
       "3  Escuela nueva  No Aplica    No aplica     5          F    No aplica   \n",
       "4  Escuela nueva  No Aplica    No aplica     4          M    No aplica   \n",
       "\n",
       "  SECTOR_CONPES  TOTAL_MATRICULA  \n",
       "0       OFICIAL                1  \n",
       "1       OFICIAL                2  \n",
       "2       OFICIAL                1  \n",
       "3       OFICIAL                1  \n",
       "4       OFICIAL                2  "
      ]
     },
     "execution_count": 28,
     "metadata": {},
     "output_type": "execute_result"
    }
   ],
   "source": [
    "data_2010_2021.head()"
   ]
  },
  {
   "cell_type": "code",
   "execution_count": 29,
   "metadata": {},
   "outputs": [
    {
     "data": {
      "text/html": [
       "<div>\n",
       "<style scoped>\n",
       "    .dataframe tbody tr th:only-of-type {\n",
       "        vertical-align: middle;\n",
       "    }\n",
       "\n",
       "    .dataframe tbody tr th {\n",
       "        vertical-align: top;\n",
       "    }\n",
       "\n",
       "    .dataframe thead th {\n",
       "        text-align: right;\n",
       "    }\n",
       "</style>\n",
       "<table border=\"1\" class=\"dataframe\">\n",
       "  <thead>\n",
       "    <tr style=\"text-align: right;\">\n",
       "      <th></th>\n",
       "      <th>DEPARTAMENTO</th>\n",
       "      <th>SECRETARIA</th>\n",
       "      <th>MUNICIPIO</th>\n",
       "      <th>NOMBRE_ESTABLECIMIENTO</th>\n",
       "      <th>SECTOR</th>\n",
       "      <th>CALENDARIO</th>\n",
       "      <th>NOMBRE_SEDE</th>\n",
       "      <th>ZONA</th>\n",
       "      <th>TIPO_JORNADA</th>\n",
       "      <th>GRADO</th>\n",
       "      <th>METODOLOGIA</th>\n",
       "      <th>CARACTER</th>\n",
       "      <th>ESPECIALIDAD</th>\n",
       "      <th>COD_GENERO</th>\n",
       "      <th>GRUPO_ETNICO</th>\n",
       "      <th>SECTOR_CONPES</th>\n",
       "    </tr>\n",
       "  </thead>\n",
       "  <tbody>\n",
       "    <tr>\n",
       "      <th>count</th>\n",
       "      <td>1177622</td>\n",
       "      <td>1177622</td>\n",
       "      <td>1177622</td>\n",
       "      <td>1177622</td>\n",
       "      <td>1177622</td>\n",
       "      <td>1177622</td>\n",
       "      <td>1177622</td>\n",
       "      <td>1177622</td>\n",
       "      <td>1177622</td>\n",
       "      <td>1177622</td>\n",
       "      <td>1177622</td>\n",
       "      <td>1177622</td>\n",
       "      <td>1177622</td>\n",
       "      <td>1177622</td>\n",
       "      <td>1177622</td>\n",
       "      <td>1177622</td>\n",
       "    </tr>\n",
       "    <tr>\n",
       "      <th>unique</th>\n",
       "      <td>2</td>\n",
       "      <td>8</td>\n",
       "      <td>30</td>\n",
       "      <td>1247</td>\n",
       "      <td>2</td>\n",
       "      <td>2</td>\n",
       "      <td>2698</td>\n",
       "      <td>2</td>\n",
       "      <td>6</td>\n",
       "      <td>24</td>\n",
       "      <td>22</td>\n",
       "      <td>4</td>\n",
       "      <td>8</td>\n",
       "      <td>2</td>\n",
       "      <td>9</td>\n",
       "      <td>4</td>\n",
       "    </tr>\n",
       "    <tr>\n",
       "      <th>top</th>\n",
       "      <td>Córdoba</td>\n",
       "      <td>Córdoba</td>\n",
       "      <td>Montería</td>\n",
       "      <td>INST. EDUC. JULIO C. MIRANDA</td>\n",
       "      <td>OFICIAL</td>\n",
       "      <td>A</td>\n",
       "      <td>IE SANTA CRUZ</td>\n",
       "      <td>Rural</td>\n",
       "      <td>Mañana</td>\n",
       "      <td>Tercero</td>\n",
       "      <td>Educación tradicional</td>\n",
       "      <td>No Aplica</td>\n",
       "      <td>No aplica</td>\n",
       "      <td>M</td>\n",
       "      <td>No aplica</td>\n",
       "      <td>OFICIAL</td>\n",
       "    </tr>\n",
       "    <tr>\n",
       "      <th>freq</th>\n",
       "      <td>797674</td>\n",
       "      <td>563071</td>\n",
       "      <td>212863</td>\n",
       "      <td>7142</td>\n",
       "      <td>1114023</td>\n",
       "      <td>1176967</td>\n",
       "      <td>4277</td>\n",
       "      <td>790153</td>\n",
       "      <td>786246</td>\n",
       "      <td>130186</td>\n",
       "      <td>830280</td>\n",
       "      <td>1085693</td>\n",
       "      <td>1086129</td>\n",
       "      <td>621079</td>\n",
       "      <td>1048440</td>\n",
       "      <td>1002519</td>\n",
       "    </tr>\n",
       "  </tbody>\n",
       "</table>\n",
       "</div>"
      ],
      "text/plain": [
       "       DEPARTAMENTO SECRETARIA MUNICIPIO        NOMBRE_ESTABLECIMIENTO  \\\n",
       "count       1177622    1177622   1177622                       1177622   \n",
       "unique            2          8        30                          1247   \n",
       "top         Córdoba    Córdoba  Montería  INST. EDUC. JULIO C. MIRANDA   \n",
       "freq         797674     563071    212863                          7142   \n",
       "\n",
       "         SECTOR CALENDARIO    NOMBRE_SEDE     ZONA TIPO_JORNADA    GRADO  \\\n",
       "count   1177622    1177622        1177622  1177622      1177622  1177622   \n",
       "unique        2          2           2698        2            6       24   \n",
       "top     OFICIAL          A  IE SANTA CRUZ    Rural       Mañana  Tercero   \n",
       "freq    1114023    1176967           4277   790153       786246   130186   \n",
       "\n",
       "                  METODOLOGIA   CARACTER ESPECIALIDAD COD_GENERO GRUPO_ETNICO  \\\n",
       "count                 1177622    1177622      1177622    1177622      1177622   \n",
       "unique                     22          4            8          2            9   \n",
       "top     Educación tradicional  No Aplica    No aplica          M    No aplica   \n",
       "freq                   830280    1085693      1086129     621079      1048440   \n",
       "\n",
       "       SECTOR_CONPES  \n",
       "count        1177622  \n",
       "unique             4  \n",
       "top          OFICIAL  \n",
       "freq         1002519  "
      ]
     },
     "execution_count": 29,
     "metadata": {},
     "output_type": "execute_result"
    }
   ],
   "source": [
    "data_2010_2021.describe(include=\"O\")"
   ]
  },
  {
   "cell_type": "code",
   "execution_count": 30,
   "metadata": {},
   "outputs": [],
   "source": [
    "data_2010_2021[\"DEPARTAMENTO\"] = data_2010_2021[\"DEPARTAMENTO\"].str.capitalize()"
   ]
  },
  {
   "cell_type": "code",
   "execution_count": 31,
   "metadata": {},
   "outputs": [],
   "source": [
    "graficas = data_2010_2021.copy()"
   ]
  },
  {
   "cell_type": "code",
   "execution_count": 32,
   "metadata": {},
   "outputs": [],
   "source": [
    "graficas = graficas.set_index(\"ANNO_INF\")"
   ]
  },
  {
   "cell_type": "code",
   "execution_count": 33,
   "metadata": {},
   "outputs": [
    {
     "data": {
      "text/html": [
       "<div>\n",
       "<style scoped>\n",
       "    .dataframe tbody tr th:only-of-type {\n",
       "        vertical-align: middle;\n",
       "    }\n",
       "\n",
       "    .dataframe tbody tr th {\n",
       "        vertical-align: top;\n",
       "    }\n",
       "\n",
       "    .dataframe thead th {\n",
       "        text-align: right;\n",
       "    }\n",
       "</style>\n",
       "<table border=\"1\" class=\"dataframe\">\n",
       "  <thead>\n",
       "    <tr style=\"text-align: right;\">\n",
       "      <th></th>\n",
       "      <th>DEPARTAMENTO</th>\n",
       "      <th>SECRETARIA</th>\n",
       "      <th>MUNICIPIO</th>\n",
       "      <th>NOMBRE_ESTABLECIMIENTO</th>\n",
       "      <th>SECTOR</th>\n",
       "      <th>CALENDARIO</th>\n",
       "      <th>NOMBRE_SEDE</th>\n",
       "      <th>ZONA</th>\n",
       "      <th>TIPO_JORNADA</th>\n",
       "      <th>GRADO</th>\n",
       "      <th>METODOLOGIA</th>\n",
       "      <th>CARACTER</th>\n",
       "      <th>ESPECIALIDAD</th>\n",
       "      <th>EDAD</th>\n",
       "      <th>COD_GENERO</th>\n",
       "      <th>GRUPO_ETNICO</th>\n",
       "      <th>SECTOR_CONPES</th>\n",
       "      <th>TOTAL_MATRICULA</th>\n",
       "    </tr>\n",
       "    <tr>\n",
       "      <th>ANNO_INF</th>\n",
       "      <th></th>\n",
       "      <th></th>\n",
       "      <th></th>\n",
       "      <th></th>\n",
       "      <th></th>\n",
       "      <th></th>\n",
       "      <th></th>\n",
       "      <th></th>\n",
       "      <th></th>\n",
       "      <th></th>\n",
       "      <th></th>\n",
       "      <th></th>\n",
       "      <th></th>\n",
       "      <th></th>\n",
       "      <th></th>\n",
       "      <th></th>\n",
       "      <th></th>\n",
       "      <th></th>\n",
       "    </tr>\n",
       "  </thead>\n",
       "  <tbody>\n",
       "    <tr>\n",
       "      <th>2019</th>\n",
       "      <td>Córdoba</td>\n",
       "      <td>CÓRDOBA</td>\n",
       "      <td>Moñitos</td>\n",
       "      <td>I.E. RIO CEDRO</td>\n",
       "      <td>OFICIAL</td>\n",
       "      <td>A</td>\n",
       "      <td>ESCUELA NUEVA EL CONSUELO</td>\n",
       "      <td>Rural</td>\n",
       "      <td>Mañana</td>\n",
       "      <td>Transición</td>\n",
       "      <td>Escuela nueva</td>\n",
       "      <td>No Aplica</td>\n",
       "      <td>No aplica</td>\n",
       "      <td>5</td>\n",
       "      <td>M</td>\n",
       "      <td>No aplica</td>\n",
       "      <td>OFICIAL</td>\n",
       "      <td>1</td>\n",
       "    </tr>\n",
       "    <tr>\n",
       "      <th>2019</th>\n",
       "      <td>Córdoba</td>\n",
       "      <td>CÓRDOBA</td>\n",
       "      <td>Montelíbano</td>\n",
       "      <td>CENTRO EDC. ESPIRIRU SANTO</td>\n",
       "      <td>OFICIAL</td>\n",
       "      <td>A</td>\n",
       "      <td>ESC. NUEVA ESPERANZA</td>\n",
       "      <td>Rural</td>\n",
       "      <td>Mañana</td>\n",
       "      <td>Transición</td>\n",
       "      <td>Escuela nueva</td>\n",
       "      <td>No Aplica</td>\n",
       "      <td>No aplica</td>\n",
       "      <td>5</td>\n",
       "      <td>M</td>\n",
       "      <td>No aplica</td>\n",
       "      <td>OFICIAL</td>\n",
       "      <td>2</td>\n",
       "    </tr>\n",
       "    <tr>\n",
       "      <th>2019</th>\n",
       "      <td>Córdoba</td>\n",
       "      <td>CÓRDOBA</td>\n",
       "      <td>Los córdobas</td>\n",
       "      <td>INSTITUCION EDUCATIVA NUEVO NARIÑO</td>\n",
       "      <td>OFICIAL</td>\n",
       "      <td>A</td>\n",
       "      <td>ESC NVA  LAS TINAS</td>\n",
       "      <td>Rural</td>\n",
       "      <td>Mañana</td>\n",
       "      <td>Transición</td>\n",
       "      <td>Escuela nueva</td>\n",
       "      <td>No Aplica</td>\n",
       "      <td>No aplica</td>\n",
       "      <td>5</td>\n",
       "      <td>M</td>\n",
       "      <td>No aplica</td>\n",
       "      <td>OFICIAL</td>\n",
       "      <td>1</td>\n",
       "    </tr>\n",
       "    <tr>\n",
       "      <th>2019</th>\n",
       "      <td>Córdoba</td>\n",
       "      <td>CÓRDOBA</td>\n",
       "      <td>Los córdobas</td>\n",
       "      <td>INSTITUCION EDUCATIVA NUEVO NARIÑO</td>\n",
       "      <td>OFICIAL</td>\n",
       "      <td>A</td>\n",
       "      <td>ESC NVA  LAS TINAS</td>\n",
       "      <td>Rural</td>\n",
       "      <td>Mañana</td>\n",
       "      <td>Transición</td>\n",
       "      <td>Escuela nueva</td>\n",
       "      <td>No Aplica</td>\n",
       "      <td>No aplica</td>\n",
       "      <td>5</td>\n",
       "      <td>F</td>\n",
       "      <td>No aplica</td>\n",
       "      <td>OFICIAL</td>\n",
       "      <td>1</td>\n",
       "    </tr>\n",
       "    <tr>\n",
       "      <th>2019</th>\n",
       "      <td>Córdoba</td>\n",
       "      <td>CÓRDOBA</td>\n",
       "      <td>Momil</td>\n",
       "      <td>INST EDUCATIVO SAN PEDRO CLAVER</td>\n",
       "      <td>OFICIAL</td>\n",
       "      <td>A</td>\n",
       "      <td>ESC NVA INMACULADA CONCEPCION</td>\n",
       "      <td>Rural</td>\n",
       "      <td>Mañana</td>\n",
       "      <td>Transición</td>\n",
       "      <td>Escuela nueva</td>\n",
       "      <td>No Aplica</td>\n",
       "      <td>No aplica</td>\n",
       "      <td>4</td>\n",
       "      <td>M</td>\n",
       "      <td>No aplica</td>\n",
       "      <td>OFICIAL</td>\n",
       "      <td>2</td>\n",
       "    </tr>\n",
       "  </tbody>\n",
       "</table>\n",
       "</div>"
      ],
      "text/plain": [
       "         DEPARTAMENTO SECRETARIA     MUNICIPIO  \\\n",
       "ANNO_INF                                         \n",
       "2019          Córdoba    CÓRDOBA       Moñitos   \n",
       "2019          Córdoba    CÓRDOBA   Montelíbano   \n",
       "2019          Córdoba    CÓRDOBA  Los córdobas   \n",
       "2019          Córdoba    CÓRDOBA  Los córdobas   \n",
       "2019          Córdoba    CÓRDOBA         Momil   \n",
       "\n",
       "                      NOMBRE_ESTABLECIMIENTO   SECTOR CALENDARIO  \\\n",
       "ANNO_INF                                                           \n",
       "2019                          I.E. RIO CEDRO  OFICIAL          A   \n",
       "2019              CENTRO EDC. ESPIRIRU SANTO  OFICIAL          A   \n",
       "2019      INSTITUCION EDUCATIVA NUEVO NARIÑO  OFICIAL          A   \n",
       "2019      INSTITUCION EDUCATIVA NUEVO NARIÑO  OFICIAL          A   \n",
       "2019         INST EDUCATIVO SAN PEDRO CLAVER  OFICIAL          A   \n",
       "\n",
       "                            NOMBRE_SEDE   ZONA TIPO_JORNADA       GRADO  \\\n",
       "ANNO_INF                                                                  \n",
       "2019          ESCUELA NUEVA EL CONSUELO  Rural       Mañana  Transición   \n",
       "2019               ESC. NUEVA ESPERANZA  Rural       Mañana  Transición   \n",
       "2019                 ESC NVA  LAS TINAS  Rural       Mañana  Transición   \n",
       "2019                 ESC NVA  LAS TINAS  Rural       Mañana  Transición   \n",
       "2019      ESC NVA INMACULADA CONCEPCION  Rural       Mañana  Transición   \n",
       "\n",
       "            METODOLOGIA   CARACTER ESPECIALIDAD  EDAD COD_GENERO GRUPO_ETNICO  \\\n",
       "ANNO_INF                                                                        \n",
       "2019      Escuela nueva  No Aplica    No aplica     5          M    No aplica   \n",
       "2019      Escuela nueva  No Aplica    No aplica     5          M    No aplica   \n",
       "2019      Escuela nueva  No Aplica    No aplica     5          M    No aplica   \n",
       "2019      Escuela nueva  No Aplica    No aplica     5          F    No aplica   \n",
       "2019      Escuela nueva  No Aplica    No aplica     4          M    No aplica   \n",
       "\n",
       "         SECTOR_CONPES  TOTAL_MATRICULA  \n",
       "ANNO_INF                                 \n",
       "2019           OFICIAL                1  \n",
       "2019           OFICIAL                2  \n",
       "2019           OFICIAL                1  \n",
       "2019           OFICIAL                1  \n",
       "2019           OFICIAL                2  "
      ]
     },
     "execution_count": 33,
     "metadata": {},
     "output_type": "execute_result"
    }
   ],
   "source": [
    "graficas.head()"
   ]
  },
  {
   "cell_type": "code",
   "execution_count": 34,
   "metadata": {},
   "outputs": [
    {
     "data": {
      "text/plain": [
       "array(['Escuela nueva', 'Educación tradicional', 'Media rural',\n",
       "       'Etnoeducación', 'Programa para jóvenes en extraedad y adultos',\n",
       "       'Telesecundaria', 'Crecer', 'Post primaria',\n",
       "       'Preescolar escolarizado', 'Circulos de aprendizaje',\n",
       "       'Grupos juveniles creativos', 'Aceleración del aprendizaje', 'Sat',\n",
       "       'Modalidad virtual asistida ucn',\n",
       "       'Modelo Ser Humano (CICLO 1, 2, 3, 4, 5,6)',\n",
       "       'Caminar en Secundaria', 'Espere', 'Cafam', 'Transformemos',\n",
       "       'Sat presencial', 'Ser',\n",
       "       'Preescolar no escolarizado/semiescolarizado'], dtype=object)"
      ]
     },
     "execution_count": 34,
     "metadata": {},
     "output_type": "execute_result"
    }
   ],
   "source": [
    "graficas[\"METODOLOGIA\"].unique()"
   ]
  },
  {
   "cell_type": "code",
   "execution_count": 35,
   "metadata": {},
   "outputs": [
    {
     "data": {
      "text/plain": [
       "array(['Mañana', 'Unica', 'Tarde', 'Nocturna', 'Fin de Semana',\n",
       "       'Completa'], dtype=object)"
      ]
     },
     "execution_count": 35,
     "metadata": {},
     "output_type": "execute_result"
    }
   ],
   "source": [
    "graficas[\"TIPO_JORNADA\"].unique()"
   ]
  },
  {
   "cell_type": "markdown",
   "metadata": {},
   "source": [
    "### Graficamente se observa que desde el 2010 al 2021 un 52.6% del total de matriculados son masculinos y el 47.4% es del genero femenino"
   ]
  },
  {
   "cell_type": "code",
   "execution_count": 36,
   "metadata": {},
   "outputs": [
    {
     "data": {
      "image/png": "[encoded data removed]",
      "text/plain": [
       "<Figure size 640x480 with 1 Axes>"
      ]
     },
     "metadata": {},
     "output_type": "display_data"
    }
   ],
   "source": [
    "f_o_m = graficas[\"COD_GENERO\"].groupby(graficas[\"COD_GENERO\"]).count()\n",
    "cod_gender = [\"F\", \"M\"]\n",
    "plt.pie(f_o_m, labels=cod_gender, autopct=\"%.1f%%\")\n",
    "plt.title(\"CANTIDAD DE GENERO\")\n",
    "plt.show();"
   ]
  },
  {
   "cell_type": "markdown",
   "metadata": {},
   "source": [
    "### Analisis de la cantidad de estudiantes matriculados por años\n",
    "### Se observa que en el año 2015 hubo un gran incrementro de estudiantes matriculadod en el departamento de Córdoba"
   ]
  },
  {
   "cell_type": "code",
   "execution_count": 37,
   "metadata": {},
   "outputs": [
    {
     "data": {
      "image/png": "[encoded data removed]",
      "text/plain": [
       "<Figure size 1000x400 with 1 Axes>"
      ]
     },
     "metadata": {},
     "output_type": "display_data"
    }
   ],
   "source": [
    "annios = graficas.groupby([graficas.index])[\"TOTAL_MATRICULA\"].count()\n",
    "\n",
    "annios_ord = np.sort(graficas.index.unique())\n",
    "fig, ax = plt.subplots(figsize=(10, 4))\n",
    "plt.xticks(rotation=\"90\")\n",
    "sns.barplot(x = annios_ord, y = annios)\n",
    "plt.xlabel(\"AÑOS\")\n",
    "plt.ylabel(\"CANTIDAD MATRICULADOS\")\n",
    "plt.title(\"CANTIDAD DE ESTUDIANTES MATRICULADOS POR AÑOS\");\n",
    "\n"
   ]
  },
  {
   "cell_type": "markdown",
   "metadata": {},
   "source": [
    "### Analisis de la cantidad de estudiantes matriculados por municipios\n",
    "\n",
    "### Se observa que en Montería hubo una mayor cantidad de matriculados"
   ]
  },
  {
   "cell_type": "code",
   "execution_count": 38,
   "metadata": {},
   "outputs": [
    {
     "data": {
      "image/png": "[encoded data removed]",
      "text/plain": [
       "<Figure size 1000x400 with 1 Axes>"
      ]
     },
     "metadata": {},
     "output_type": "display_data"
    }
   ],
   "source": [
    "cantidad_matriculas_zonas = graficas.groupby([\"MUNICIPIO\"])[[\"TOTAL_MATRICULA\"]].count()\n",
    "cantidad = cantidad_matriculas_zonas[\"TOTAL_MATRICULA\"].unique()\n",
    "\n",
    "municipios = np.sort(graficas[\"MUNICIPIO\"].unique())\n",
    "fig, ax = plt.subplots(figsize=(10, 4))\n",
    "plt.xticks(rotation=\"90\")\n",
    "sns.barplot(x = municipios, y = cantidad)\n",
    "plt.xlabel(\"MUNICIPIOS\")\n",
    "plt.ylabel(\"CANTIDAD MATRICULADOS\")\n",
    "plt.title(\"CANTIDAD DE ESTUDIANTES MATRICULADOS POR MUNICIPIOS\");"
   ]
  },
  {
   "cell_type": "markdown",
   "metadata": {},
   "source": [
    "### Analisis de la cantidad de estudiantes matriculados en zona rural y urbana"
   ]
  },
  {
   "cell_type": "code",
   "execution_count": 39,
   "metadata": {},
   "outputs": [
    {
     "data": {
      "image/png": "[encoded data removed]",
      "text/plain": [
       "<Figure size 800x400 with 1 Axes>"
      ]
     },
     "metadata": {},
     "output_type": "display_data"
    }
   ],
   "source": [
    "cantidad_matriculas_zonas = graficas.groupby([\"ZONA\"])[[\"TOTAL_MATRICULA\"]].count()\n",
    "cantidad_matriculados = cantidad_matriculas_zonas[\"TOTAL_MATRICULA\"].unique()\n",
    "\n",
    "zonas = np.sort(graficas[\"ZONA\"].unique())\n",
    "fig, ax = plt.subplots(figsize=(8, 4))\n",
    "plt.xticks(rotation=\"90\")\n",
    "sns.barplot(x = zonas, y = cantidad_matriculados)\n",
    "plt.xlabel(\"ZONAS\")\n",
    "plt.ylabel(\"CANTIDAD MATRICULADOS\")\n",
    "plt.title(\"CANTIDAD DE ESTUDIANTES MATRICULADOS POR POR ZONAS\");"
   ]
  },
  {
   "cell_type": "markdown",
   "metadata": {},
   "source": [
    "### A continuacion se observa que el 50% de la muestra se encuentra en un rango de edad aprox. entre 9 a 16 y que hay ciertos datos \"atipicos\" ya que son edades por encima de los 30 años"
   ]
  },
  {
   "cell_type": "code",
   "execution_count": null,
   "metadata": {},
   "outputs": [],
   "source": []
  },
  {
   "cell_type": "code",
   "execution_count": 40,
   "metadata": {},
   "outputs": [
    {
     "data": {
      "image/png": "[encoded data removed]",
      "text/plain": [
       "<Figure size 1500x1800 with 2 Axes>"
      ]
     },
     "metadata": {},
     "output_type": "display_data"
    }
   ],
   "source": [
    "plt.figure(figsize=[15,18])\n",
    "features = ['EDAD','TOTAL_MATRICULA']\n",
    "n=1\n",
    "for f in features:\n",
    "    plt.subplot(5,2,n)\n",
    "    sns.boxplot(x=f, data=data_2010_2021)\n",
    "    plt.title(\"Countplot of {}  by target\".format(f))\n",
    "    n=n+1\n",
    "plt.tight_layout()\n",
    "plt.show()"
   ]
  },
  {
   "cell_type": "code",
   "execution_count": 41,
   "metadata": {},
   "outputs": [],
   "source": [
    "def heatmap_count(df, var1, var2):\n",
    "    heat_df=[]\n",
    "    heat_df=pd.DataFrame(df.groupby([var1,var2]).count().iloc[:,1]).reset_index()\n",
    "    cols=heat_df.columns\n",
    "    value=[y for y in cols if y not in [var1, var2]]\n",
    "    heat_df=heat_df.pivot(columns=var1, index=var2, values=value[0])\n",
    "    plt.figure(figsize=(15,10))\n",
    "    return sns.heatmap(heat_df, cmap=\"Blues_r\",linewidths=0.5, annot=True, fmt='g')"
   ]
  },
  {
   "cell_type": "code",
   "execution_count": 42,
   "metadata": {},
   "outputs": [
    {
     "data": {
      "image/png": "[encoded data removed]",
      "text/plain": [
       "<Figure size 1500x1000 with 2 Axes>"
      ]
     },
     "metadata": {},
     "output_type": "display_data"
    }
   ],
   "source": [
    "heatmap_count(graficas, \"COD_GENERO\", \"MUNICIPIO\");"
   ]
  },
  {
   "cell_type": "code",
   "execution_count": 43,
   "metadata": {},
   "outputs": [],
   "source": [
    "#matrix_df = pps.matrix(data_2010_2021)[['x', 'y', 'ppscore']].pivot(columns='x', index='y', values='ppscore')\n",
    "#plt.figure(figsize=(15,5))\n",
    "#sns.heatmap(matrix_df.round(2), vmin=0, vmax=1, cmap=\"Blues\", linewidths=0.5, annot=True);"
   ]
  },
  {
   "cell_type": "code",
   "execution_count": 44,
   "metadata": {},
   "outputs": [],
   "source": [
    "data_2010_2021.to_csv(\"consolidado_2010_2021.csv\", sep=\",\", index=False)"
   ]
  },
  {
   "cell_type": "code",
   "execution_count": 45,
   "metadata": {},
   "outputs": [
    {
     "data": {
      "text/plain": [
       "2015    138721\n",
       "2017    117902\n",
       "2010    110295\n",
       "2011    109542\n",
       "2013    108960\n",
       "2012    108806\n",
       "2020    106698\n",
       "2014    103448\n",
       "2018     96632\n",
       "2019     91303\n",
       "2021     85315\n",
       "Name: ANNO_INF, dtype: int64"
      ]
     },
     "execution_count": 45,
     "metadata": {},
     "output_type": "execute_result"
    }
   ],
   "source": [
    "data_2010_2021.ANNO_INF.value_counts()"
   ]
  }
 ],
 "metadata": {
  "kernelspec": {
   "display_name": "Python 3 (ipykernel)",
   "language": "python",
   "name": "python3"
  },
  "language_info": {
   "codemirror_mode": {
    "name": "ipython",
    "version": 3
   },
   "file_extension": ".py",
   "mimetype": "text/x-python",
   "name": "python",
   "nbconvert_exporter": "python",
   "pygments_lexer": "ipython3",
   "version": "3.9.13"
  },
  "vscode": {
   "interpreter": {
    "hash": "773724000d4c3420015b8d0eba53256f219ea1328c1dd3fb81f5200e13356a14"
   }
  }
 },
 "nbformat": 4,
 "nbformat_minor": 4
}
